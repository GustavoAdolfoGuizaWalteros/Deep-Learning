{
  "nbformat": 4,
  "nbformat_minor": 0,
  "metadata": {
    "colab": {
      "name": "P1_T3_Notas_Estudiantes",
      "provenance": [],
      "collapsed_sections": [],
      "include_colab_link": true
    },
    "kernelspec": {
      "display_name": "Python 3",
      "name": "python3"
    }
  },
  "cells": [
    {
      "cell_type": "markdown",
      "metadata": {
        "id": "view-in-github",
        "colab_type": "text"
      },
      "source": [
        "<a href=\"https://colab.research.google.com/github/GustavoAdolfoGuizaWalteros/Deep-Learning/blob/main/P1_T3_Notas_Estudiantes.ipynb\" target=\"_parent\"><img src=\"https://colab.research.google.com/assets/colab-badge.svg\" alt=\"Open In Colab\"/></a>"
      ]
    },
    {
      "cell_type": "code",
      "metadata": {
        "id": "zODHw959VUyf",
        "colab": {
          "base_uri": "https://localhost:8080/"
        },
        "outputId": "d77a2c8f-f193-4d9b-bdc4-8b304661a648"
      },
      "source": [
        "from random import randint\n",
        "conta, conta2 = 0, 0\n",
        "notas = [randint(10, 50)/10 for i in range(40)]\n",
        "for j in range (len(notas)):\n",
        "    if notas[j] <= 2.9:\n",
        "        conta += 1\n",
        "    else:\n",
        "        conta2 += 1\n",
        "print(f\"Perdieron: \", cont,\"- Pasaron: \",cont2,\"- Promedio: \",sum(notas)/40)\n",
        "print(notas)"
      ],
      "execution_count": 6,
      "outputs": [
        {
          "output_type": "stream",
          "text": [
            "Perdieron:  21 - Pasaron:  19 - Promedio:  2.962500000000001\n",
            "[2.3, 4.6, 3.5, 1.9, 4.0, 4.0, 3.0, 4.8, 1.9, 2.5, 3.2, 3.7, 4.6, 4.2, 2.7, 1.7, 3.6, 3.2, 2.5, 4.1, 1.7, 3.0, 1.6, 1.5, 1.9, 3.3, 3.5, 4.9, 1.3, 1.9, 1.2, 3.4, 3.3, 1.6, 4.7, 4.0, 2.7, 1.1, 3.9, 2.0]\n"
          ],
          "name": "stdout"
        }
      ]
    }
  ]
}