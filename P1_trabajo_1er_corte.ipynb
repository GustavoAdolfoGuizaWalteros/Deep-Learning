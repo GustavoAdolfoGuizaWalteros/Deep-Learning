{
  "nbformat": 4,
  "nbformat_minor": 0,
  "metadata": {
    "colab": {
      "name": "P1_trabajo_1er_corte.ipynb",
      "provenance": [],
      "collapsed_sections": [],
      "authorship_tag": "ABX9TyN0BcwFb/2SY4Lsl8Jf8xO8",
      "include_colab_link": true
    },
    "kernelspec": {
      "name": "python3",
      "display_name": "Python 3"
    },
    "language_info": {
      "name": "python"
    }
  },
  "cells": [
    {
      "cell_type": "markdown",
      "metadata": {
        "id": "view-in-github",
        "colab_type": "text"
      },
      "source": [
        "<a href=\"https://colab.research.google.com/github/GustavoAdolfoGuizaWalteros/Deep_Learning/blob/main/P1_trabajo_1er_corte.ipynb\" target=\"_parent\"><img src=\"https://colab.research.google.com/assets/colab-badge.svg\" alt=\"Open In Colab\"/></a>"
      ]
    },
    {
      "cell_type": "code",
      "metadata": {
        "colab": {
          "base_uri": "https://localhost:8080/"
        },
        "id": "eEQxSXJZg1PX",
        "outputId": "5da7f4e5-8f81-4256-ad7e-5d5beb714872"
      },
      "source": [
        "!pip install fsspec\n",
        "!pip install beautifulsoup4"
      ],
      "execution_count": 1,
      "outputs": [
        {
          "output_type": "stream",
          "name": "stdout",
          "text": [
            "Requirement already satisfied: fsspec in /usr/local/lib/python3.7/dist-packages (2021.9.0)\n",
            "Requirement already satisfied: beautifulsoup4 in /usr/local/lib/python3.7/dist-packages (4.6.3)\n"
          ]
        }
      ]
    },
    {
      "cell_type": "code",
      "metadata": {
        "id": "XzG_pSfBhKP9"
      },
      "source": [
        "import numpy as np\n",
        "import pandas as pd\n",
        "from sklearn.cluster import KMeans\n",
        "from sklearn import preprocessing  #normalizar datos\n",
        "from sklearn.metrics import pairwise_distances_argmin_min\n",
        "\n",
        "import matplotlib.pyplot as plt\n",
        "import seaborn as sb\n",
        "from mpl_toolkits.mplot3d import Axes3D   #graficar 3D\n",
        "\n",
        "import requests                           # manejar pedidos internet\n",
        "from bs4 import BeautifulSoup             # parsear documentos HTML\n",
        "\n",
        "from sklearn.decomposition import PCA   # Análisis de componentes principales\n",
        "\n",
        "#configuraciones basicas PLT\n",
        "%matplotlib inline\n",
        "plt.rcParams['figure.figsize'] = (16, 9)\n",
        "plt.style.use('ggplot')"
      ],
      "execution_count": 2,
      "outputs": []
    },
    {
      "cell_type": "code",
      "metadata": {
        "colab": {
          "base_uri": "https://localhost:8080/",
          "height": 203
        },
        "id": "NOSuhjdqmCZY",
        "outputId": "f026c8ed-8a27-4a24-e1e3-fb92e7cf6060"
      },
      "source": [
        "nasdaq_acciones = pd.read_csv('NASDAQ.csv')\n",
        "nasdaq_acciones.head()"
      ],
      "execution_count": 3,
      "outputs": [
        {
          "output_type": "execute_result",
          "data": {
            "text/html": [
              "<div>\n",
              "<style scoped>\n",
              "    .dataframe tbody tr th:only-of-type {\n",
              "        vertical-align: middle;\n",
              "    }\n",
              "\n",
              "    .dataframe tbody tr th {\n",
              "        vertical-align: top;\n",
              "    }\n",
              "\n",
              "    .dataframe thead th {\n",
              "        text-align: right;\n",
              "    }\n",
              "</style>\n",
              "<table border=\"1\" class=\"dataframe\">\n",
              "  <thead>\n",
              "    <tr style=\"text-align: right;\">\n",
              "      <th></th>\n",
              "      <th>Date</th>\n",
              "      <th>Open</th>\n",
              "      <th>High</th>\n",
              "      <th>Low</th>\n",
              "      <th>Close</th>\n",
              "      <th>Adj Close</th>\n",
              "      <th>Volume</th>\n",
              "    </tr>\n",
              "  </thead>\n",
              "  <tbody>\n",
              "    <tr>\n",
              "      <th>0</th>\n",
              "      <td>2016-09-26</td>\n",
              "      <td>5275.729980</td>\n",
              "      <td>5282.270020</td>\n",
              "      <td>5254.959961</td>\n",
              "      <td>5257.490234</td>\n",
              "      <td>5257.490234</td>\n",
              "      <td>1669520000</td>\n",
              "    </tr>\n",
              "    <tr>\n",
              "      <th>1</th>\n",
              "      <td>2016-09-27</td>\n",
              "      <td>5254.180176</td>\n",
              "      <td>5306.810059</td>\n",
              "      <td>5251.319824</td>\n",
              "      <td>5305.709961</td>\n",
              "      <td>5305.709961</td>\n",
              "      <td>1751060000</td>\n",
              "    </tr>\n",
              "    <tr>\n",
              "      <th>2</th>\n",
              "      <td>2016-09-28</td>\n",
              "      <td>5312.729980</td>\n",
              "      <td>5320.620117</td>\n",
              "      <td>5284.839844</td>\n",
              "      <td>5318.549805</td>\n",
              "      <td>5318.549805</td>\n",
              "      <td>1785470000</td>\n",
              "    </tr>\n",
              "    <tr>\n",
              "      <th>3</th>\n",
              "      <td>2016-09-29</td>\n",
              "      <td>5311.310059</td>\n",
              "      <td>5317.000000</td>\n",
              "      <td>5254.520020</td>\n",
              "      <td>5269.149902</td>\n",
              "      <td>5269.149902</td>\n",
              "      <td>1941170000</td>\n",
              "    </tr>\n",
              "    <tr>\n",
              "      <th>4</th>\n",
              "      <td>2016-09-30</td>\n",
              "      <td>5288.870117</td>\n",
              "      <td>5325.879883</td>\n",
              "      <td>5277.879883</td>\n",
              "      <td>5312.000000</td>\n",
              "      <td>5312.000000</td>\n",
              "      <td>2059800000</td>\n",
              "    </tr>\n",
              "  </tbody>\n",
              "</table>\n",
              "</div>"
            ],
            "text/plain": [
              "         Date         Open         High  ...        Close    Adj Close      Volume\n",
              "0  2016-09-26  5275.729980  5282.270020  ...  5257.490234  5257.490234  1669520000\n",
              "1  2016-09-27  5254.180176  5306.810059  ...  5305.709961  5305.709961  1751060000\n",
              "2  2016-09-28  5312.729980  5320.620117  ...  5318.549805  5318.549805  1785470000\n",
              "3  2016-09-29  5311.310059  5317.000000  ...  5269.149902  5269.149902  1941170000\n",
              "4  2016-09-30  5288.870117  5325.879883  ...  5312.000000  5312.000000  2059800000\n",
              "\n",
              "[5 rows x 7 columns]"
            ]
          },
          "metadata": {},
          "execution_count": 3
        }
      ]
    },
    {
      "cell_type": "code",
      "metadata": {
        "colab": {
          "base_uri": "https://localhost:8080/"
        },
        "id": "Krt81v_wyzdq",
        "outputId": "0c9ea4a8-602c-42f6-e524-177cc27a42fb"
      },
      "source": [
        "nasdaq_acciones.info()\n",
        "nasdaq_acciones.describe()\n",
        "nasdaq_acciones.isnull().sum()"
      ],
      "execution_count": 4,
      "outputs": [
        {
          "output_type": "stream",
          "name": "stdout",
          "text": [
            "<class 'pandas.core.frame.DataFrame'>\n",
            "RangeIndex: 1259 entries, 0 to 1258\n",
            "Data columns (total 7 columns):\n",
            " #   Column     Non-Null Count  Dtype  \n",
            "---  ------     --------------  -----  \n",
            " 0   Date       1259 non-null   object \n",
            " 1   Open       1259 non-null   float64\n",
            " 2   High       1259 non-null   float64\n",
            " 3   Low        1259 non-null   float64\n",
            " 4   Close      1259 non-null   float64\n",
            " 5   Adj Close  1259 non-null   float64\n",
            " 6   Volume     1259 non-null   int64  \n",
            "dtypes: float64(5), int64(1), object(1)\n",
            "memory usage: 69.0+ KB\n"
          ]
        },
        {
          "output_type": "execute_result",
          "data": {
            "text/plain": [
              "Date         0\n",
              "Open         0\n",
              "High         0\n",
              "Low          0\n",
              "Close        0\n",
              "Adj Close    0\n",
              "Volume       0\n",
              "dtype: int64"
            ]
          },
          "metadata": {},
          "execution_count": 4
        }
      ]
    },
    {
      "cell_type": "code",
      "metadata": {
        "id": "QxFsstst30H2"
      },
      "source": [
        "nasdaq_acciones = nasdaq_acciones.dropna()\n",
        "nasdaq_acciones = nasdaq_acciones.reset_index(drop=True)"
      ],
      "execution_count": 5,
      "outputs": []
    },
    {
      "cell_type": "code",
      "metadata": {
        "colab": {
          "base_uri": "https://localhost:8080/",
          "height": 608
        },
        "id": "fDNC05Vg4CdE",
        "outputId": "0f7d351c-b58f-47cf-f7c6-425b4f090ffb"
      },
      "source": [
        "nasdaq_acciones['Date']=pd.to_datetime(nasdaq_acciones['Date'])         \n",
        "nasdaq_acciones.head(1260)"
      ],
      "execution_count": 6,
      "outputs": [
        {
          "output_type": "execute_result",
          "data": {
            "text/html": [
              "<div>\n",
              "<style scoped>\n",
              "    .dataframe tbody tr th:only-of-type {\n",
              "        vertical-align: middle;\n",
              "    }\n",
              "\n",
              "    .dataframe tbody tr th {\n",
              "        vertical-align: top;\n",
              "    }\n",
              "\n",
              "    .dataframe thead th {\n",
              "        text-align: right;\n",
              "    }\n",
              "</style>\n",
              "<table border=\"1\" class=\"dataframe\">\n",
              "  <thead>\n",
              "    <tr style=\"text-align: right;\">\n",
              "      <th></th>\n",
              "      <th>Date</th>\n",
              "      <th>Open</th>\n",
              "      <th>High</th>\n",
              "      <th>Low</th>\n",
              "      <th>Close</th>\n",
              "      <th>Adj Close</th>\n",
              "      <th>Volume</th>\n",
              "    </tr>\n",
              "  </thead>\n",
              "  <tbody>\n",
              "    <tr>\n",
              "      <th>0</th>\n",
              "      <td>2016-09-26</td>\n",
              "      <td>5275.729980</td>\n",
              "      <td>5282.270020</td>\n",
              "      <td>5254.959961</td>\n",
              "      <td>5257.490234</td>\n",
              "      <td>5257.490234</td>\n",
              "      <td>1669520000</td>\n",
              "    </tr>\n",
              "    <tr>\n",
              "      <th>1</th>\n",
              "      <td>2016-09-27</td>\n",
              "      <td>5254.180176</td>\n",
              "      <td>5306.810059</td>\n",
              "      <td>5251.319824</td>\n",
              "      <td>5305.709961</td>\n",
              "      <td>5305.709961</td>\n",
              "      <td>1751060000</td>\n",
              "    </tr>\n",
              "    <tr>\n",
              "      <th>2</th>\n",
              "      <td>2016-09-28</td>\n",
              "      <td>5312.729980</td>\n",
              "      <td>5320.620117</td>\n",
              "      <td>5284.839844</td>\n",
              "      <td>5318.549805</td>\n",
              "      <td>5318.549805</td>\n",
              "      <td>1785470000</td>\n",
              "    </tr>\n",
              "    <tr>\n",
              "      <th>3</th>\n",
              "      <td>2016-09-29</td>\n",
              "      <td>5311.310059</td>\n",
              "      <td>5317.000000</td>\n",
              "      <td>5254.520020</td>\n",
              "      <td>5269.149902</td>\n",
              "      <td>5269.149902</td>\n",
              "      <td>1941170000</td>\n",
              "    </tr>\n",
              "    <tr>\n",
              "      <th>4</th>\n",
              "      <td>2016-09-30</td>\n",
              "      <td>5288.870117</td>\n",
              "      <td>5325.879883</td>\n",
              "      <td>5277.879883</td>\n",
              "      <td>5312.000000</td>\n",
              "      <td>5312.000000</td>\n",
              "      <td>2059800000</td>\n",
              "    </tr>\n",
              "    <tr>\n",
              "      <th>...</th>\n",
              "      <td>...</td>\n",
              "      <td>...</td>\n",
              "      <td>...</td>\n",
              "      <td>...</td>\n",
              "      <td>...</td>\n",
              "      <td>...</td>\n",
              "      <td>...</td>\n",
              "    </tr>\n",
              "    <tr>\n",
              "      <th>1254</th>\n",
              "      <td>2021-09-20</td>\n",
              "      <td>14758.139648</td>\n",
              "      <td>14841.820313</td>\n",
              "      <td>14530.070313</td>\n",
              "      <td>14713.900391</td>\n",
              "      <td>14713.900391</td>\n",
              "      <td>4860630000</td>\n",
              "    </tr>\n",
              "    <tr>\n",
              "      <th>1255</th>\n",
              "      <td>2021-09-21</td>\n",
              "      <td>14803.360352</td>\n",
              "      <td>14847.030273</td>\n",
              "      <td>14696.469727</td>\n",
              "      <td>14746.400391</td>\n",
              "      <td>14746.400391</td>\n",
              "      <td>4056340000</td>\n",
              "    </tr>\n",
              "    <tr>\n",
              "      <th>1256</th>\n",
              "      <td>2021-09-22</td>\n",
              "      <td>14800.589844</td>\n",
              "      <td>14950.120117</td>\n",
              "      <td>14767.009766</td>\n",
              "      <td>14896.849609</td>\n",
              "      <td>14896.849609</td>\n",
              "      <td>4229870000</td>\n",
              "    </tr>\n",
              "    <tr>\n",
              "      <th>1257</th>\n",
              "      <td>2021-09-23</td>\n",
              "      <td>14960.000000</td>\n",
              "      <td>15085.440430</td>\n",
              "      <td>14932.509766</td>\n",
              "      <td>15052.240234</td>\n",
              "      <td>15052.240234</td>\n",
              "      <td>4176520000</td>\n",
              "    </tr>\n",
              "    <tr>\n",
              "      <th>1258</th>\n",
              "      <td>2021-09-24</td>\n",
              "      <td>14961.610352</td>\n",
              "      <td>15067.559570</td>\n",
              "      <td>14946.570313</td>\n",
              "      <td>15047.700195</td>\n",
              "      <td>15047.700195</td>\n",
              "      <td>3972140000</td>\n",
              "    </tr>\n",
              "  </tbody>\n",
              "</table>\n",
              "<p>1259 rows × 7 columns</p>\n",
              "</div>"
            ],
            "text/plain": [
              "           Date          Open  ...     Adj Close      Volume\n",
              "0    2016-09-26   5275.729980  ...   5257.490234  1669520000\n",
              "1    2016-09-27   5254.180176  ...   5305.709961  1751060000\n",
              "2    2016-09-28   5312.729980  ...   5318.549805  1785470000\n",
              "3    2016-09-29   5311.310059  ...   5269.149902  1941170000\n",
              "4    2016-09-30   5288.870117  ...   5312.000000  2059800000\n",
              "...         ...           ...  ...           ...         ...\n",
              "1254 2021-09-20  14758.139648  ...  14713.900391  4860630000\n",
              "1255 2021-09-21  14803.360352  ...  14746.400391  4056340000\n",
              "1256 2021-09-22  14800.589844  ...  14896.849609  4229870000\n",
              "1257 2021-09-23  14960.000000  ...  15052.240234  4176520000\n",
              "1258 2021-09-24  14961.610352  ...  15047.700195  3972140000\n",
              "\n",
              "[1259 rows x 7 columns]"
            ]
          },
          "metadata": {},
          "execution_count": 6
        }
      ]
    },
    {
      "cell_type": "code",
      "metadata": {
        "colab": {
          "base_uri": "https://localhost:8080/",
          "height": 419
        },
        "id": "C242ric_4sld",
        "outputId": "435204ad-d21a-474d-fd86-b61e6d01295d"
      },
      "source": [
        "nasdaq_acciones = nasdaq_acciones[['Date', 'Open', 'Close']]\n",
        "nasdaq_acciones.head(1260)"
      ],
      "execution_count": 7,
      "outputs": [
        {
          "output_type": "execute_result",
          "data": {
            "text/html": [
              "<div>\n",
              "<style scoped>\n",
              "    .dataframe tbody tr th:only-of-type {\n",
              "        vertical-align: middle;\n",
              "    }\n",
              "\n",
              "    .dataframe tbody tr th {\n",
              "        vertical-align: top;\n",
              "    }\n",
              "\n",
              "    .dataframe thead th {\n",
              "        text-align: right;\n",
              "    }\n",
              "</style>\n",
              "<table border=\"1\" class=\"dataframe\">\n",
              "  <thead>\n",
              "    <tr style=\"text-align: right;\">\n",
              "      <th></th>\n",
              "      <th>Date</th>\n",
              "      <th>Open</th>\n",
              "      <th>Close</th>\n",
              "    </tr>\n",
              "  </thead>\n",
              "  <tbody>\n",
              "    <tr>\n",
              "      <th>0</th>\n",
              "      <td>2016-09-26</td>\n",
              "      <td>5275.729980</td>\n",
              "      <td>5257.490234</td>\n",
              "    </tr>\n",
              "    <tr>\n",
              "      <th>1</th>\n",
              "      <td>2016-09-27</td>\n",
              "      <td>5254.180176</td>\n",
              "      <td>5305.709961</td>\n",
              "    </tr>\n",
              "    <tr>\n",
              "      <th>2</th>\n",
              "      <td>2016-09-28</td>\n",
              "      <td>5312.729980</td>\n",
              "      <td>5318.549805</td>\n",
              "    </tr>\n",
              "    <tr>\n",
              "      <th>3</th>\n",
              "      <td>2016-09-29</td>\n",
              "      <td>5311.310059</td>\n",
              "      <td>5269.149902</td>\n",
              "    </tr>\n",
              "    <tr>\n",
              "      <th>4</th>\n",
              "      <td>2016-09-30</td>\n",
              "      <td>5288.870117</td>\n",
              "      <td>5312.000000</td>\n",
              "    </tr>\n",
              "    <tr>\n",
              "      <th>...</th>\n",
              "      <td>...</td>\n",
              "      <td>...</td>\n",
              "      <td>...</td>\n",
              "    </tr>\n",
              "    <tr>\n",
              "      <th>1254</th>\n",
              "      <td>2021-09-20</td>\n",
              "      <td>14758.139648</td>\n",
              "      <td>14713.900391</td>\n",
              "    </tr>\n",
              "    <tr>\n",
              "      <th>1255</th>\n",
              "      <td>2021-09-21</td>\n",
              "      <td>14803.360352</td>\n",
              "      <td>14746.400391</td>\n",
              "    </tr>\n",
              "    <tr>\n",
              "      <th>1256</th>\n",
              "      <td>2021-09-22</td>\n",
              "      <td>14800.589844</td>\n",
              "      <td>14896.849609</td>\n",
              "    </tr>\n",
              "    <tr>\n",
              "      <th>1257</th>\n",
              "      <td>2021-09-23</td>\n",
              "      <td>14960.000000</td>\n",
              "      <td>15052.240234</td>\n",
              "    </tr>\n",
              "    <tr>\n",
              "      <th>1258</th>\n",
              "      <td>2021-09-24</td>\n",
              "      <td>14961.610352</td>\n",
              "      <td>15047.700195</td>\n",
              "    </tr>\n",
              "  </tbody>\n",
              "</table>\n",
              "<p>1259 rows × 3 columns</p>\n",
              "</div>"
            ],
            "text/plain": [
              "           Date          Open         Close\n",
              "0    2016-09-26   5275.729980   5257.490234\n",
              "1    2016-09-27   5254.180176   5305.709961\n",
              "2    2016-09-28   5312.729980   5318.549805\n",
              "3    2016-09-29   5311.310059   5269.149902\n",
              "4    2016-09-30   5288.870117   5312.000000\n",
              "...         ...           ...           ...\n",
              "1254 2021-09-20  14758.139648  14713.900391\n",
              "1255 2021-09-21  14803.360352  14746.400391\n",
              "1256 2021-09-22  14800.589844  14896.849609\n",
              "1257 2021-09-23  14960.000000  15052.240234\n",
              "1258 2021-09-24  14961.610352  15047.700195\n",
              "\n",
              "[1259 rows x 3 columns]"
            ]
          },
          "metadata": {},
          "execution_count": 7
        }
      ]
    },
    {
      "cell_type": "code",
      "metadata": {
        "colab": {
          "base_uri": "https://localhost:8080/"
        },
        "id": "iGp7zPYD7ikA",
        "outputId": "e4431b04-bf7d-48d7-a3fa-54b6e599ac38"
      },
      "source": [
        "#Verificamos que se halla convertido la variable\n",
        "nasdaq_acciones.info()\n",
        "nasdaq_acciones.describe()\n",
        "nasdaq_acciones.isnull().sum()"
      ],
      "execution_count": 8,
      "outputs": [
        {
          "output_type": "stream",
          "name": "stdout",
          "text": [
            "<class 'pandas.core.frame.DataFrame'>\n",
            "RangeIndex: 1259 entries, 0 to 1258\n",
            "Data columns (total 3 columns):\n",
            " #   Column  Non-Null Count  Dtype         \n",
            "---  ------  --------------  -----         \n",
            " 0   Date    1259 non-null   datetime64[ns]\n",
            " 1   Open    1259 non-null   float64       \n",
            " 2   Close   1259 non-null   float64       \n",
            "dtypes: datetime64[ns](1), float64(2)\n",
            "memory usage: 29.6 KB\n"
          ]
        },
        {
          "output_type": "execute_result",
          "data": {
            "text/plain": [
              "Date     0\n",
              "Open     0\n",
              "Close    0\n",
              "dtype: int64"
            ]
          },
          "metadata": {},
          "execution_count": 8
        }
      ]
    },
    {
      "cell_type": "code",
      "metadata": {
        "colab": {
          "base_uri": "https://localhost:8080/",
          "height": 450
        },
        "id": "lndRQ95L5G12",
        "outputId": "2e9d2595-edb1-4089-ed07-bcbce7f155a9"
      },
      "source": [
        "nasdaq_acciones = nasdaq_acciones.set_index('Date').resample('W').last()\n",
        "nasdaq_acciones.head(1260)"
      ],
      "execution_count": 9,
      "outputs": [
        {
          "output_type": "execute_result",
          "data": {
            "text/html": [
              "<div>\n",
              "<style scoped>\n",
              "    .dataframe tbody tr th:only-of-type {\n",
              "        vertical-align: middle;\n",
              "    }\n",
              "\n",
              "    .dataframe tbody tr th {\n",
              "        vertical-align: top;\n",
              "    }\n",
              "\n",
              "    .dataframe thead th {\n",
              "        text-align: right;\n",
              "    }\n",
              "</style>\n",
              "<table border=\"1\" class=\"dataframe\">\n",
              "  <thead>\n",
              "    <tr style=\"text-align: right;\">\n",
              "      <th></th>\n",
              "      <th>Open</th>\n",
              "      <th>Close</th>\n",
              "    </tr>\n",
              "    <tr>\n",
              "      <th>Date</th>\n",
              "      <th></th>\n",
              "      <th></th>\n",
              "    </tr>\n",
              "  </thead>\n",
              "  <tbody>\n",
              "    <tr>\n",
              "      <th>2016-10-02</th>\n",
              "      <td>5288.870117</td>\n",
              "      <td>5312.000000</td>\n",
              "    </tr>\n",
              "    <tr>\n",
              "      <th>2016-10-09</th>\n",
              "      <td>5314.919922</td>\n",
              "      <td>5292.399902</td>\n",
              "    </tr>\n",
              "    <tr>\n",
              "      <th>2016-10-16</th>\n",
              "      <td>5241.259766</td>\n",
              "      <td>5214.160156</td>\n",
              "    </tr>\n",
              "    <tr>\n",
              "      <th>2016-10-23</th>\n",
              "      <td>5238.649902</td>\n",
              "      <td>5257.399902</td>\n",
              "    </tr>\n",
              "    <tr>\n",
              "      <th>2016-10-30</th>\n",
              "      <td>5203.700195</td>\n",
              "      <td>5190.100098</td>\n",
              "    </tr>\n",
              "    <tr>\n",
              "      <th>...</th>\n",
              "      <td>...</td>\n",
              "      <td>...</td>\n",
              "    </tr>\n",
              "    <tr>\n",
              "      <th>2021-08-29</th>\n",
              "      <td>14969.769531</td>\n",
              "      <td>15129.500000</td>\n",
              "    </tr>\n",
              "    <tr>\n",
              "      <th>2021-09-05</th>\n",
              "      <td>15313.410156</td>\n",
              "      <td>15363.519531</td>\n",
              "    </tr>\n",
              "    <tr>\n",
              "      <th>2021-09-12</th>\n",
              "      <td>15332.919922</td>\n",
              "      <td>15115.490234</td>\n",
              "    </tr>\n",
              "    <tr>\n",
              "      <th>2021-09-19</th>\n",
              "      <td>15163.360352</td>\n",
              "      <td>15043.969727</td>\n",
              "    </tr>\n",
              "    <tr>\n",
              "      <th>2021-09-26</th>\n",
              "      <td>14961.610352</td>\n",
              "      <td>15047.700195</td>\n",
              "    </tr>\n",
              "  </tbody>\n",
              "</table>\n",
              "<p>261 rows × 2 columns</p>\n",
              "</div>"
            ],
            "text/plain": [
              "                    Open         Close\n",
              "Date                                  \n",
              "2016-10-02   5288.870117   5312.000000\n",
              "2016-10-09   5314.919922   5292.399902\n",
              "2016-10-16   5241.259766   5214.160156\n",
              "2016-10-23   5238.649902   5257.399902\n",
              "2016-10-30   5203.700195   5190.100098\n",
              "...                  ...           ...\n",
              "2021-08-29  14969.769531  15129.500000\n",
              "2021-09-05  15313.410156  15363.519531\n",
              "2021-09-12  15332.919922  15115.490234\n",
              "2021-09-19  15163.360352  15043.969727\n",
              "2021-09-26  14961.610352  15047.700195\n",
              "\n",
              "[261 rows x 2 columns]"
            ]
          },
          "metadata": {},
          "execution_count": 9
        }
      ]
    },
    {
      "cell_type": "code",
      "metadata": {
        "colab": {
          "base_uri": "https://localhost:8080/",
          "height": 450
        },
        "id": "fD1V6MP4AoUv",
        "outputId": "11be0095-727a-41fa-f560-bb7fefc8ea7c"
      },
      "source": [
        "start = nasdaq_acciones.iloc[0]  \n",
        "returns = (nasdaq_acciones - start) / start\n",
        "returns"
      ],
      "execution_count": 10,
      "outputs": [
        {
          "output_type": "execute_result",
          "data": {
            "text/html": [
              "<div>\n",
              "<style scoped>\n",
              "    .dataframe tbody tr th:only-of-type {\n",
              "        vertical-align: middle;\n",
              "    }\n",
              "\n",
              "    .dataframe tbody tr th {\n",
              "        vertical-align: top;\n",
              "    }\n",
              "\n",
              "    .dataframe thead th {\n",
              "        text-align: right;\n",
              "    }\n",
              "</style>\n",
              "<table border=\"1\" class=\"dataframe\">\n",
              "  <thead>\n",
              "    <tr style=\"text-align: right;\">\n",
              "      <th></th>\n",
              "      <th>Open</th>\n",
              "      <th>Close</th>\n",
              "    </tr>\n",
              "    <tr>\n",
              "      <th>Date</th>\n",
              "      <th></th>\n",
              "      <th></th>\n",
              "    </tr>\n",
              "  </thead>\n",
              "  <tbody>\n",
              "    <tr>\n",
              "      <th>2016-10-02</th>\n",
              "      <td>0.000000</td>\n",
              "      <td>0.000000</td>\n",
              "    </tr>\n",
              "    <tr>\n",
              "      <th>2016-10-09</th>\n",
              "      <td>0.004925</td>\n",
              "      <td>-0.003690</td>\n",
              "    </tr>\n",
              "    <tr>\n",
              "      <th>2016-10-16</th>\n",
              "      <td>-0.009002</td>\n",
              "      <td>-0.018419</td>\n",
              "    </tr>\n",
              "    <tr>\n",
              "      <th>2016-10-23</th>\n",
              "      <td>-0.009495</td>\n",
              "      <td>-0.010279</td>\n",
              "    </tr>\n",
              "    <tr>\n",
              "      <th>2016-10-30</th>\n",
              "      <td>-0.016104</td>\n",
              "      <td>-0.022948</td>\n",
              "    </tr>\n",
              "    <tr>\n",
              "      <th>...</th>\n",
              "      <td>...</td>\n",
              "      <td>...</td>\n",
              "    </tr>\n",
              "    <tr>\n",
              "      <th>2021-08-29</th>\n",
              "      <td>1.830429</td>\n",
              "      <td>1.848174</td>\n",
              "    </tr>\n",
              "    <tr>\n",
              "      <th>2021-09-05</th>\n",
              "      <td>1.895403</td>\n",
              "      <td>1.892229</td>\n",
              "    </tr>\n",
              "    <tr>\n",
              "      <th>2021-09-12</th>\n",
              "      <td>1.899092</td>\n",
              "      <td>1.845537</td>\n",
              "    </tr>\n",
              "    <tr>\n",
              "      <th>2021-09-19</th>\n",
              "      <td>1.867032</td>\n",
              "      <td>1.832073</td>\n",
              "    </tr>\n",
              "    <tr>\n",
              "      <th>2021-09-26</th>\n",
              "      <td>1.828886</td>\n",
              "      <td>1.832775</td>\n",
              "    </tr>\n",
              "  </tbody>\n",
              "</table>\n",
              "<p>261 rows × 2 columns</p>\n",
              "</div>"
            ],
            "text/plain": [
              "                Open     Close\n",
              "Date                          \n",
              "2016-10-02  0.000000  0.000000\n",
              "2016-10-09  0.004925 -0.003690\n",
              "2016-10-16 -0.009002 -0.018419\n",
              "2016-10-23 -0.009495 -0.010279\n",
              "2016-10-30 -0.016104 -0.022948\n",
              "...              ...       ...\n",
              "2021-08-29  1.830429  1.848174\n",
              "2021-09-05  1.895403  1.892229\n",
              "2021-09-12  1.899092  1.845537\n",
              "2021-09-19  1.867032  1.832073\n",
              "2021-09-26  1.828886  1.832775\n",
              "\n",
              "[261 rows x 2 columns]"
            ]
          },
          "metadata": {},
          "execution_count": 10
        }
      ]
    },
    {
      "cell_type": "code",
      "metadata": {
        "id": "Fstvum9zBrFr"
      },
      "source": [
        "def plot_stock(symbol, nasdaq_acciones=nasdaq_acciones):\n",
        "    nasdaq_acciones[symbol].plot(alpha=2);"
      ],
      "execution_count": 11,
      "outputs": []
    },
    {
      "cell_type": "code",
      "metadata": {
        "colab": {
          "base_uri": "https://localhost:8080/",
          "height": 430
        },
        "id": "soXWcviNBnMO",
        "outputId": "f656f814-52ff-40ed-e463-504579cde19b"
      },
      "source": [
        "plot_stock('Open')\n",
        "plot_stock('Close')\n",
        "plt.title(' Valor en que Abre y Cierra las acciones')\n",
        "plt.legend();"
      ],
      "execution_count": 12,
      "outputs": [
        {
          "output_type": "display_data",
          "data": {
            "image/png": "[encoded data removed]",
            "text/plain": [
              "<Figure size 1152x648 with 1 Axes>"
            ]
          },
          "metadata": {}
        }
      ]
    },
    {
      "cell_type": "code",
      "metadata": {
        "colab": {
          "base_uri": "https://localhost:8080/",
          "height": 443
        },
        "id": "vy5SzssoFtjZ",
        "outputId": "9031ee91-f105-4ea4-b930-94a182241f85"
      },
      "source": [
        "nc = range(1, 30) # El número de iteraciones que queremos hacer.\n",
        "kmeans = [KMeans(n_clusters=i) for i in nc]\n",
        "score = [kmeans[i].fit(nasdaq_acciones).score(nasdaq_acciones) for i in range(len(kmeans))]\n",
        "score\n",
        "plt.xlabel('Numero de Clusters')\n",
        "plt.ylabel('Valores')\n",
        "plt.title('Curva de eficiencia')\n",
        "plt.plot(nc,score)"
      ],
      "execution_count": 16,
      "outputs": [
        {
          "output_type": "execute_result",
          "data": {
            "text/plain": [
              "[<matplotlib.lines.Line2D at 0x7f18d325ef10>]"
            ]
          },
          "metadata": {},
          "execution_count": 16
        },
        {
          "output_type": "display_data",
          "data": {
            "image/png": "[encoded data removed]",
            "text/plain": [
              "<Figure size 1152x648 with 1 Axes>"
            ]
          },
          "metadata": {}
        }
      ]
    },
    {
      "cell_type": "code",
      "metadata": {
        "colab": {
          "base_uri": "https://localhost:8080/",
          "height": 429
        },
        "id": "v1OPhMpMKlJr",
        "outputId": "a80a7ee1-71f8-445f-95bc-9ed1b3cea98e"
      },
      "source": [
        "wcss = []\n",
        "for i in range(1, 100):\n",
        "    kmeans = KMeans(n_clusters=i, init='k-means++', max_iter=300, n_init=10, random_state=0)\n",
        "    kmeans.fit(nasdaq_acciones)\n",
        "    wcss.append(kmeans.inertia_)\n",
        "plt.plot(range(1, 100), wcss)\n",
        "plt.title('Metodo de codo')\n",
        "plt.xlabel('Numero de clusters')\n",
        "plt.ylabel('WCSS')\n",
        "plt.show()"
      ],
      "execution_count": 18,
      "outputs": [
        {
          "output_type": "display_data",
          "data": {
            "image/png": "[encoded data removed]",
            "text/plain": [
              "<Figure size 1152x648 with 1 Axes>"
            ]
          },
          "metadata": {}
        }
      ]
    },
    {
      "cell_type": "code",
      "metadata": {
        "colab": {
          "base_uri": "https://localhost:8080/"
        },
        "id": "e4H5ns1XGpjZ",
        "outputId": "0e4d3a23-1808-4492-c2b6-4dcb2d646fbf"
      },
      "source": [
        "#Centroides\n",
        "kmeans = KMeans(n_clusters=10).fit(nasdaq_acciones)\n",
        "centroids = kmeans.cluster_centers_\n",
        "print(centroids) "
      ],
      "execution_count": 22,
      "outputs": [
        {
          "output_type": "stream",
          "name": "stdout",
          "text": [
            "[[7.22720295e+03 7.21891787e+03 3.00000000e+00]\n",
            " [1.29067347e+04 1.29322722e+04 1.60000000e+00]\n",
            " [1.12336627e+04 1.12180531e+04 4.00000000e+00]\n",
            " [5.55097367e+03 5.55388701e+03 6.66133815e-16]\n",
            " [9.66933665e+03 9.62356198e+03 2.26666667e+00]\n",
            " [7.93310959e+03 7.93158306e+03 3.00000000e+00]\n",
            " [1.48236092e+04 1.48365750e+04 1.00000000e+00]\n",
            " [1.38171340e+04 1.38445120e+04 1.00000000e+00]\n",
            " [8.66441998e+03 8.71177229e+03 2.00000000e+00]\n",
            " [6.37957182e+03 6.38183665e+03 9.09090909e-02]]\n"
          ]
        }
      ]
    }
  ]
}