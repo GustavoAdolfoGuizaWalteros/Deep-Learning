{
  "nbformat": 4,
  "nbformat_minor": 0,
  "metadata": {
    "colab": {
      "name": "P1T5_User_Timestamp.ipynb",
      "provenance": [],
      "collapsed_sections": [],
      "toc_visible": true,
      "include_colab_link": true
    },
    "kernelspec": {
      "name": "python3",
      "display_name": "Python 3"
    },
    "language_info": {
      "name": "python"
    }
  },
  "cells": [
    {
      "cell_type": "markdown",
      "metadata": {
        "id": "view-in-github",
        "colab_type": "text"
      },
      "source": [
        "<a href=\"https://colab.research.google.com/github/GustavoAdolfoGuizaWalteros/Deep-Learning/blob/main/P1T5_User_Timestamp.ipynb\" target=\"_parent\"><img src=\"https://colab.research.google.com/assets/colab-badge.svg\" alt=\"Open In Colab\"/></a>"
      ]
    },
    {
      "cell_type": "markdown",
      "metadata": {
        "id": "9cNmHs3Yoasq"
      },
      "source": [
        "#user_timestamp\n",
        "\n",
        "---\n",
        "\n"
      ]
    },
    {
      "cell_type": "markdown",
      "metadata": {
        "id": "IZqNdclJokGd"
      },
      "source": [
        "#Tabla General"
      ]
    },
    {
      "cell_type": "code",
      "metadata": {
        "colab": {
          "base_uri": "https://localhost:8080/",
          "height": 359
        },
        "id": "medG8OXDoCk5",
        "outputId": "ecb354f6-db3c-4ba1-9bcc-d6bf19a851db"
      },
      "source": [
        "import matplotlib.pyplot as plt\n",
        "import pandas as pd\n",
        "\n",
        "df = pd.read_csv(\"https://raw.githubusercontent.com/luisFernandoCastellanosG/Machine_learning/master/DataScience/DataSet's/user_timestamp.csv\")\n",
        "df.head(10)"
      ],
      "execution_count": null,
      "outputs": [
        {
          "output_type": "execute_result",
          "data": {
            "text/html": [
              "<div>\n",
              "<style scoped>\n",
              "    .dataframe tbody tr th:only-of-type {\n",
              "        vertical-align: middle;\n",
              "    }\n",
              "\n",
              "    .dataframe tbody tr th {\n",
              "        vertical-align: top;\n",
              "    }\n",
              "\n",
              "    .dataframe thead th {\n",
              "        text-align: right;\n",
              "    }\n",
              "</style>\n",
              "<table border=\"1\" class=\"dataframe\">\n",
              "  <thead>\n",
              "    <tr style=\"text-align: right;\">\n",
              "      <th></th>\n",
              "      <th>user_id</th>\n",
              "      <th>timestamp</th>\n",
              "    </tr>\n",
              "  </thead>\n",
              "  <tbody>\n",
              "    <tr>\n",
              "      <th>0</th>\n",
              "      <td>621.0</td>\n",
              "      <td>0:00:02</td>\n",
              "    </tr>\n",
              "    <tr>\n",
              "      <th>1</th>\n",
              "      <td>818.0</td>\n",
              "      <td>0:00:10</td>\n",
              "    </tr>\n",
              "    <tr>\n",
              "      <th>2</th>\n",
              "      <td>4.0</td>\n",
              "      <td>0:00:21</td>\n",
              "    </tr>\n",
              "    <tr>\n",
              "      <th>3</th>\n",
              "      <td>563.0</td>\n",
              "      <td>0:00:21</td>\n",
              "    </tr>\n",
              "    <tr>\n",
              "      <th>4</th>\n",
              "      <td>671.0</td>\n",
              "      <td>0:00:26</td>\n",
              "    </tr>\n",
              "    <tr>\n",
              "      <th>5</th>\n",
              "      <td>780.0</td>\n",
              "      <td>0:00:28</td>\n",
              "    </tr>\n",
              "    <tr>\n",
              "      <th>6</th>\n",
              "      <td>136.0</td>\n",
              "      <td>0:00:33</td>\n",
              "    </tr>\n",
              "    <tr>\n",
              "      <th>7</th>\n",
              "      <td>621.0</td>\n",
              "      <td>0:00:58</td>\n",
              "    </tr>\n",
              "    <tr>\n",
              "      <th>8</th>\n",
              "      <td>136.0</td>\n",
              "      <td>0:01:00</td>\n",
              "    </tr>\n",
              "    <tr>\n",
              "      <th>9</th>\n",
              "      <td>831.0</td>\n",
              "      <td>0:01:04</td>\n",
              "    </tr>\n",
              "  </tbody>\n",
              "</table>\n",
              "</div>"
            ],
            "text/plain": [
              "   user_id timestamp\n",
              "0    621.0   0:00:02\n",
              "1    818.0   0:00:10\n",
              "2      4.0   0:00:21\n",
              "3    563.0   0:00:21\n",
              "4    671.0   0:00:26\n",
              "5    780.0   0:00:28\n",
              "6    136.0   0:00:33\n",
              "7    621.0   0:00:58\n",
              "8    136.0   0:01:00\n",
              "9    831.0   0:01:04"
            ]
          },
          "metadata": {
            "tags": []
          },
          "execution_count": 2
        }
      ]
    },
    {
      "cell_type": "markdown",
      "metadata": {
        "id": "V0oOo5Tcoxpw"
      },
      "source": [
        "##Analisis de datos"
      ]
    },
    {
      "cell_type": "code",
      "metadata": {
        "colab": {
          "base_uri": "https://localhost:8080/"
        },
        "id": "r_bJacgZ9jeG",
        "outputId": "79d0a9dd-158b-4f87-b5e8-a181c323eda7"
      },
      "source": [
        "import matplotlib.pyplot as plt\n",
        "import pandas as pd\n",
        "\n",
        "df = pd.read_csv(\"https://raw.githubusercontent.com/luisFernandoCastellanosG/Machine_learning/master/DataScience/DataSet's/user_timestamp.csv\")\n",
        "\n",
        "#Analisis de user_id\n",
        "listadoGeneral = list(df.user_id)\n",
        "print(type(listadoGeneral[71995]))#Los Null son Float y los valores tambien\n",
        "print(df.user_id)#Datos en General:71996\n",
        "print(sum(dict(df.value_counts(\"user_id\")).values()))#Total de valores que no son Null: 61582\n",
        "\n",
        "#Analisis de timestamp\n",
        "listadoGeneral = list(df.timestamp)\n",
        "print(type(listadoGeneral[71995]))#Los Null son Float\n",
        "print(df.timestamp)#Datos en General:71996\n",
        "print(sum(dict(df.value_counts(\"user_id\")).values()))#Total de valores que no son Null: 61582\n"
      ],
      "execution_count": null,
      "outputs": [
        {
          "output_type": "stream",
          "text": [
            "<class 'float'>\n",
            "0        621.0\n",
            "1        818.0\n",
            "2          4.0\n",
            "3        563.0\n",
            "4        671.0\n",
            "         ...  \n",
            "71991      NaN\n",
            "71992      NaN\n",
            "71993      NaN\n",
            "71994      NaN\n",
            "71995      NaN\n",
            "Name: user_id, Length: 71996, dtype: float64\n",
            "61582\n",
            "<class 'float'>\n",
            "0        0:00:02\n",
            "1        0:00:10\n",
            "2        0:00:21\n",
            "3        0:00:21\n",
            "4        0:00:26\n",
            "          ...   \n",
            "71991        NaN\n",
            "71992        NaN\n",
            "71993        NaN\n",
            "71994        NaN\n",
            "71995        NaN\n",
            "Name: timestamp, Length: 71996, dtype: object\n",
            "61582\n"
          ],
          "name": "stdout"
        }
      ]
    },
    {
      "cell_type": "markdown",
      "metadata": {
        "id": "q9bnVUo2or-_"
      },
      "source": [
        "#Filtros"
      ]
    },
    {
      "cell_type": "markdown",
      "metadata": {
        "id": "bjDKZpvy9IGi"
      },
      "source": [
        "##Usuario mas recuente vs menos frecuente"
      ]
    },
    {
      "cell_type": "code",
      "metadata": {
        "id": "UTTDO3XdGqJV",
        "colab": {
          "base_uri": "https://localhost:8080/"
        },
        "outputId": "72df514d-b09c-40be-af84-b45a3582e904"
      },
      "source": [
        "import matplotlib.pyplot as plt\n",
        "import pandas as pd\n",
        "\n",
        "df = pd.read_csv(\"https://raw.githubusercontent.com/luisFernandoCastellanosG/Machine_learning/master/DataScience/DataSet's/user_timestamp.csv\")\n",
        "\n",
        "#El User #1 Con mas entrads al sistema\n",
        "dictUserId = dict(df.value_counts(\"user_id\"))\n",
        "print(f\"La mayor cantidad de entradas al sistema es del User:\",list(dictUserId)[0],\"Con un total de\",max(dictUserId.values()),\"entradas al sistema\")\n",
        "#Se puede cambiar el Max() por min para saber el que menos tiene y el [-1] para el ultimo\n",
        "print(f\"La mayor cantidad de entradas al sistema es del User:\",list(dictUserId)[-1],\"Con un total de\",min(dictUserId.values()),\"entradas al sistema\")"
      ],
      "execution_count": null,
      "outputs": [
        {
          "output_type": "stream",
          "text": [
            "La mayor cantidad de entradas al sistema es del User: 51.0 Con un total de 1824 entradas al sistema\n",
            "La mayor cantidad de entradas al sistema es del User: 779.0 Con un total de 9 entradas al sistema\n"
          ],
          "name": "stdout"
        }
      ]
    },
    {
      "cell_type": "markdown",
      "metadata": {
        "id": "dsnhKA1k9Aan"
      },
      "source": [
        "##Usuario mas recuente vs menos frecuente (Grafico de barras)"
      ]
    },
    {
      "cell_type": "code",
      "metadata": {
        "id": "sDW406tx8NuV",
        "colab": {
          "base_uri": "https://localhost:8080/",
          "height": 294
        },
        "outputId": "a1552630-f65f-4c07-e5f9-9457b7130f9e"
      },
      "source": [
        "names = str(list(dictUserId)[0]), str(list(dictUserId)[-1])\n",
        "values = max(dictUserId.values()), min(dictUserId.values()) #Se ingresa los valores de cada variable\n",
        "\n",
        "#plt.figure(figsize=(3, 3)) #Tamaño de la imagen para imprimir\n",
        "\n",
        "plt.bar(names, values)\n",
        "plt.suptitle(\"Usuario mas recuente vs menos frecuente\")\n",
        "plt.show()"
      ],
      "execution_count": null,
      "outputs": [
        {
          "output_type": "display_data",
          "data": {
            "image/png": "[encoded data removed]",
            "text/plain": [
              "<Figure size 432x288 with 1 Axes>"
            ]
          },
          "metadata": {
            "tags": [],
            "needs_background": "light"
          }
        }
      ]
    },
    {
      "cell_type": "markdown",
      "metadata": {
        "id": "fX0h1fbS9Ogh"
      },
      "source": [
        "##Frecuencia de tiempos"
      ]
    },
    {
      "cell_type": "code",
      "metadata": {
        "colab": {
          "base_uri": "https://localhost:8080/"
        },
        "id": "Xe1woGm79Sa1",
        "outputId": "b8e8cb49-bee8-4eda-9804-06f3b3d3dbf2"
      },
      "source": [
        "import matplotlib.pyplot as plt\n",
        "import pandas as pd\n",
        "\n",
        "df = pd.read_csv(\"https://raw.githubusercontent.com/luisFernandoCastellanosG/Machine_learning/master/DataScience/DataSet's/user_timestamp.csv\")\n",
        "\n",
        "dictUserId = dict(df.value_counts(\"user_id\"))\n",
        "dictTime = dict(df.value_counts(\"timestamp\"))\n",
        "\n",
        "df_userMax = df[df[\"user_id\"]==list(dictUserId)[0]]\n",
        "print(df_userMax)\n",
        "\n",
        "dictdf_userMax = dict(df_userMax.timestamp)\n",
        "listdictdf_userMax = list(dictdf_userMax.values())\n",
        "\n",
        "dictdf_userMax2 = dict(df_userMax.user_id)\n",
        "listdictdf_userMax2 = list(dictdf_userMax2.values())\n",
        "\n",
        "print(f\"Tiempos\",listdictdf_userMax)\n",
        "print(f\"Usuario\",listdictdf_userMax2)\n",
        "\n",
        "for i in range(len(listdictdf_userMax)):\n",
        "  newTimeString = float(listdictdf_userMax[i].replace(\":\",\"\"))/10000\n",
        "print(newTimeString)"
      ],
      "execution_count": null,
      "outputs": [
        {
          "output_type": "stream",
          "text": [
            "       user_id timestamp\n",
            "5552      51.0  12:35:05\n",
            "5569      51.0  12:37:49\n",
            "5572      51.0  12:38:05\n",
            "5576      51.0  12:38:20\n",
            "5583      51.0  12:39:09\n",
            "...        ...       ...\n",
            "58274     51.0  15:41:37\n",
            "58282     51.0  15:43:03\n",
            "58284     51.0  15:43:26\n",
            "58290     51.0  15:44:03\n",
            "58291     51.0  15:44:05\n",
            "\n",
            "[1824 rows x 2 columns]\n",
            "Tiempos ['12:35:05', '12:37:49', '12:38:05', '12:38:20', '12:39:09', '12:39:35', '12:39:40', '12:39:48', '12:40:30', '12:40:42', '12:42:06', '12:43:39', '12:44:54', '12:46:42', '12:47:33', '12:48:00', '12:48:19', '12:49:23', '12:50:38', '12:52:02', '12:54:42', '12:55:50', '12:56:12', '12:58:05', '13:01:47', '13:02:19', '13:02:30', '13:03:24', '13:04:13', '13:04:42', '13:04:51', '13:05:47', '13:05:48', '13:06:09', '13:07:17', '13:07:30', '13:09:34', '13:09:39', '13:10:49', '13:10:53', '13:13:18', '13:14:49', '13:15:26', '13:15:41', '13:17:15', '13:17:22', '13:17:32', '13:17:37', '13:17:42', '13:18:16', '13:20:15', '13:21:01', '13:21:16', '13:21:35', '13:21:40', '13:22:23', '13:24:05', '13:28:36', '13:30:47', '13:30:54', '13:34:13', '13:35:00', '13:36:14', '13:36:28', '13:38:47', '13:38:59', '13:39:48', '13:40:11', '13:40:12', '13:40:14', '13:42:09', '13:44:26', '13:48:11', '13:51:23', '13:52:17', '13:53:10', '13:53:41', '13:53:51', '13:54:56', '13:57:44', '13:58:43', '13:59:08', '13:59:48', '14:00:51', '14:01:24', '14:01:29', '14:02:09', '14:03:35', '14:05:52', '14:07:24', '14:07:50', '14:08:08', '14:08:28', '14:12:02', '14:12:20', '14:12:23', '14:13:12', '14:13:20', '14:14:45', '14:15:57', '14:18:02', '14:18:51', '14:18:55', '14:20:07', '14:20:19', '14:20:39', '14:20:44', '14:22:29', '14:22:29', '14:23:07', '14:23:42', '14:26:01', '14:27:27', '14:27:35', '14:30:10', '14:30:26', '14:31:10', '14:31:23', '14:33:08', '14:33:27', '14:33:43', '14:34:39', '14:35:24', '14:35:54', '14:37:31', '14:38:30', '14:38:52', '14:40:48', '14:41:40', '14:42:20', '14:47:42', '14:50:03', '14:51:41', '14:55:17', '14:59:01', '14:59:22', '14:59:37', '14:59:52', '15:01:07', '15:02:35', '15:04:47', '15:06:33', '15:07:22', '15:09:05', '15:11:16', '15:12:08', '15:12:38', '15:13:28', '15:13:33', '15:13:47', '15:13:57', '15:14:30', '15:16:31', '15:18:34', '15:20:56', '15:23:07', '15:23:45', '15:26:57', '15:27:57', '15:28:22', '15:28:48', '15:29:30', '15:30:05', '15:33:50', '15:34:59', '15:35:07', '15:35:07', '15:36:51', '15:37:12', '15:38:33', '15:38:49', '15:41:23', '15:41:42', '15:42:29', '15:42:57', '15:43:30', '15:43:37', '15:43:54', '15:43:55', '12:35:25', '12:36:49', '12:36:59', '12:38:19', '12:39:07', '12:39:26', '12:39:50', '12:39:51', '12:40:04', '12:41:11', '12:41:12', '12:42:52', '12:43:11', '12:43:38', '12:43:41', '12:43:47', '12:46:50', '12:47:15', '12:47:19', '12:48:03', '12:48:04', '12:48:11', '12:48:43', '12:49:55', '12:50:18', '12:52:03', '12:53:03', '12:53:05', '12:53:10', '12:53:20', '12:55:08', '12:55:21', '12:55:53', '12:57:03', '12:57:17', '12:57:56', '12:59:07', '12:59:55', '13:00:58', '13:01:28', '13:02:56', '13:03:00', '13:03:09', '13:03:26', '13:05:51', '13:07:04', '13:07:51', '13:08:07', '13:08:09', '13:08:46', '13:11:47', '13:12:34', '13:13:10', '13:13:35', '13:13:54', '13:14:06', '13:14:13', '13:15:23', '13:15:43', '13:16:41', '13:17:30', '13:18:28', '13:18:44', '13:18:48', '13:20:25', '13:20:27', '13:21:36', '13:22:15', '13:22:31', '13:23:24', '13:24:05', '13:24:07', '13:24:07', '13:24:16', '13:24:31', '13:24:35', '13:25:13', '13:26:10', '13:26:22', '13:26:29', '13:27:09', '13:27:27', '13:28:09', '13:28:12', '13:28:18', '13:28:55', '13:29:56', '13:30:39', '13:30:42', '13:31:02', '13:31:11', '13:32:44', '13:33:31', '13:34:50', '13:35:19', '13:36:03', '13:36:28', '13:36:50', '13:37:32', '13:38:00', '13:38:28', '13:38:32', '13:38:33', '13:38:43', '13:38:51', '13:39:13', '13:39:21', '13:39:59', '13:40:04', '13:40:05', '13:40:11', '13:40:29', '13:41:06', '13:41:13', '13:41:15', '13:41:24', '13:43:14', '13:43:58', '13:44:02', '13:46:45', '13:47:18', '13:48:04', '13:48:34', '13:48:53', '13:49:15', '13:49:16', '13:49:40', '13:50:15', '13:50:24', '13:50:45', '13:50:59', '13:51:11', '13:51:52', '13:51:58', '13:52:01', '13:52:18', '13:53:01', '13:53:38', '13:53:57', '13:53:59', '13:54:53', '13:56:07', '13:56:20', '13:56:27', '13:59:13', '13:59:43', '13:59:49', '14:00:09', '14:01:35', '14:01:50', '14:02:01', '14:02:40', '14:03:26', '14:03:35', '14:04:21', '14:04:31', '14:04:49', '14:05:22', '14:05:50', '14:05:54', '14:05:59', '14:06:14', '14:06:45', '14:07:59', '14:08:13', '14:08:23', '14:08:31', '14:08:34', '14:08:36', '14:09:26', '14:09:37', '14:10:11', '14:10:19', '14:10:28', '14:10:31', '14:10:35', '14:10:51', '14:10:57', '14:11:04', '14:11:18', '14:12:26', '14:13:07', '14:13:36', '14:13:41', '14:13:46', '14:13:59', '14:14:11', '14:14:55', '14:16:06', '14:16:09', '14:16:29', '14:16:48', '14:17:12', '14:17:14', '14:17:55', '14:19:47', '14:19:52', '14:21:36', '14:21:37', '14:21:49', '14:22:32', '14:23:42', '14:24:02', '14:24:40', '14:25:41', '14:25:43', '14:25:46', '14:25:49', '14:25:55', '14:25:56', '14:25:59', '14:26:34', '14:26:37', '14:28:44', '14:33:00', '14:33:22', '14:34:13', '14:34:20', '14:34:38', '14:34:47', '14:35:08', '14:35:13', '14:36:05', '14:36:54', '14:37:10', '14:37:17', '14:37:45', '14:38:15', '14:38:40', '14:39:24', '14:39:36', '14:40:38', '14:40:45', '14:40:52', '14:41:00', '14:41:25', '14:41:39', '14:42:04', '14:42:32', '14:42:41', '14:42:49', '14:42:54', '14:43:19', '14:44:41', '14:45:43', '14:46:19', '14:46:42', '14:46:54', '14:47:16', '14:49:56', '14:50:35', '14:50:57', '14:51:17', '14:52:05', '14:52:21', '14:52:25', '14:52:51', '14:54:36', '14:54:52', '14:55:36', '14:56:40', '14:57:48', '14:59:48', '15:00:31', '15:01:17', '15:01:39', '15:04:45', '15:05:41', '15:07:42', '15:08:06', '15:08:25', '15:08:51', '15:10:01', '15:10:03', '15:10:06', '15:10:28', '15:13:35', '15:15:30', '15:16:22', '15:16:24', '15:16:28', '15:16:39', '15:17:14', '15:19:02', '15:19:15', '15:20:03', '15:21:58', '15:22:14', '15:23:04', '15:23:09', '15:23:49', '15:24:27', '15:24:35', '15:25:21', '15:25:26', '15:26:11', '15:28:03', '15:28:11', '15:29:01', '15:29:56', '15:30:34', '15:31:06', '15:33:16', '15:33:18', '15:34:26', '15:35:02', '15:35:18', '15:35:21', '15:38:46', '15:38:53', '15:39:36', '15:39:51', '15:39:55', '15:39:56', '15:40:31', '15:40:50', '15:41:53', '15:43:26', '15:43:39', '12:35:13', '12:35:56', '12:36:12', '12:36:16', '12:36:28', '12:38:25', '12:38:57', '12:40:00', '12:41:54', '12:42:06', '12:42:15', '12:42:27', '12:42:57', '12:43:21', '12:44:11', '12:44:34', '12:45:16', '12:45:33', '12:46:40', '12:46:44', '12:47:16', '12:47:40', '12:47:55', '12:48:34', '12:48:42', '12:48:43', '12:49:17', '12:50:09', '12:50:28', '12:51:44', '12:51:46', '12:51:52', '12:52:03', '12:52:09', '12:52:57', '12:52:59', '12:53:18', '12:53:39', '12:53:57', '12:54:34', '12:55:11', '12:55:25', '12:55:33', '12:55:38', '12:56:00', '12:57:29', '12:58:28', '12:58:39', '12:59:10', '12:59:12', '12:59:48', '13:00:08', '13:00:55', '13:01:20', '13:01:54', '13:02:55', '13:03:08', '13:03:32', '13:03:44', '13:04:07', '13:04:36', '13:05:20', '13:05:42', '13:05:56', '13:06:32', '13:08:03', '13:09:10', '13:09:25', '13:09:40', '13:09:42', '13:10:57', '13:11:22', '13:11:49', '13:12:35', '13:12:36', '13:13:05', '13:13:17', '13:15:33', '13:16:21', '13:16:31', '13:16:34', '13:16:58', '13:17:00', '13:17:16', '13:17:22', '13:17:29', '13:18:30', '13:18:47', '13:18:49', '13:18:57', '13:19:08', '13:21:26', '13:21:40', '13:22:31', '13:22:40', '13:22:52', '13:23:18', '13:24:02', '13:25:06', '13:25:55', '13:26:03', '13:26:06', '13:26:38', '13:26:54', '13:27:57', '13:28:08', '13:28:25', '13:30:05', '13:30:39', '13:30:43', '13:30:47', '13:30:58', '13:32:48', '13:32:49', '13:33:44', '13:33:48', '13:34:23', '13:35:19', '13:36:31', '13:37:36', '13:39:33', '13:39:40', '13:40:30', '13:40:51', '13:43:01', '13:43:26', '13:43:40', '13:45:00', '13:45:17', '13:45:20', '13:45:35', '13:45:37', '13:45:39', '13:46:35', '13:47:31', '13:47:43', '13:48:05', '13:48:35', '13:48:41', '13:48:57', '13:49:19', '13:49:19', '13:50:14', '13:50:43', '13:51:15', '13:51:15', '13:51:56', '13:52:16', '13:52:30', '13:53:24', '13:53:35', '13:54:05', '13:54:57', '13:55:47', '13:56:16', '13:59:25', '13:59:32', '14:00:42', '14:01:43', '14:02:44', '14:02:58', '14:03:17', '14:04:35', '14:06:19', '14:06:29', '14:07:39', '14:07:44', '14:07:49', '14:08:19', '14:08:26', '14:09:22', '14:10:00', '14:10:16', '14:10:18', '14:10:36', '14:10:48', '14:11:22', '14:11:56', '14:12:21', '14:13:19', '14:13:26', '14:14:40', '14:17:06', '14:17:07', '14:18:11', '14:18:17', '14:18:48', '14:18:52', '14:19:05', '14:19:57', '14:21:21', '14:21:34', '14:22:31', '14:22:46', '14:23:29', '14:23:34', '14:23:55', '14:23:58', '14:24:49', '14:25:17', '14:26:02', '14:26:11', '14:26:20', '14:26:22', '14:26:54', '14:27:05', '14:28:08', '14:28:19', '14:28:21', '14:28:44', '14:30:09', '14:31:26', '14:32:29', '14:32:50', '14:33:14', '14:34:21', '14:34:57', '14:35:08', '14:35:35', '14:35:51', '14:35:54', '14:35:58', '14:36:19', '14:36:30', '14:36:41', '14:37:37', '14:37:59', '14:38:27', '14:42:08', '14:43:35', '14:44:29', '14:45:02', '14:45:15', '14:45:29', '14:45:35', '14:45:52', '14:46:00', '14:46:07', '14:47:59', '14:48:05', '14:48:15', '14:48:48', '14:49:28', '14:49:39', '14:50:23', '14:50:41', '14:51:00', '14:52:21', '14:52:23', '14:52:54', '14:53:01', '14:53:36', '14:53:52', '14:54:02', '14:54:14', '14:54:32', '14:54:54', '14:55:14', '14:57:13', '14:57:27', '14:59:13', '15:01:17', '15:01:41', '15:02:40', '15:02:45', '15:02:55', '15:03:27', '15:03:42', '15:07:07', '15:07:28', '15:07:28', '15:07:51', '15:08:09', '15:08:38', '15:09:35', '15:09:50', '15:11:00', '15:11:07', '15:11:20', '15:11:47', '15:12:26', '15:12:32', '15:12:55', '15:13:03', '15:13:47', '15:15:56', '15:16:04', '15:16:54', '15:16:57', '15:17:30', '15:20:01', '15:20:47', '15:20:52', '15:20:56', '15:21:26', '15:21:30', '15:21:36', '15:21:58', '15:22:12', '15:22:57', '15:23:41', '15:23:53', '15:24:17', '15:24:27', '15:24:38', '15:24:44', '15:24:55', '15:25:03', '15:25:05', '15:25:18', '15:26:12', '15:26:29', '15:26:56', '15:26:57', '15:27:57', '15:28:06', '15:28:12', '15:28:37', '15:29:20', '15:29:41', '15:29:50', '15:30:55', '15:31:03', '15:32:00', '15:32:18', '15:33:07', '15:34:04', '15:34:08', '15:34:20', '15:34:21', '15:34:31', '15:35:57', '15:37:14', '15:37:46', '15:37:47', '15:38:13', '15:38:41', '15:39:27', '15:39:52', '15:40:46', '15:42:04', '15:42:37', '15:43:07', '15:43:29', '15:43:44', '12:35:46', '12:35:50', '12:35:59', '12:37:40', '12:37:40', '12:39:58', '12:40:05', '12:40:51', '12:41:00', '12:42:29', '12:42:35', '12:42:46', '12:43:31', '12:46:31', '12:46:36', '12:47:04', '12:50:21', '12:51:15', '12:51:37', '12:52:32', '12:54:05', '12:56:44', '12:57:33', '12:58:14', '13:00:12', '13:00:45', '13:02:29', '13:03:01', '13:03:05', '13:03:54', '13:05:46', '13:07:39', '13:07:41', '13:08:25', '13:09:23', '13:12:13', '13:12:32', '13:12:45', '13:12:47', '13:12:56', '13:13:11', '13:13:51', '13:13:56', '13:14:44', '13:14:45', '13:15:20', '13:16:17', '13:16:29', '13:17:03', '13:18:52', '13:19:18', '13:20:13', '13:21:50', '13:21:51', '13:22:06', '13:23:50', '13:24:47', '13:24:58', '13:25:07', '13:25:32', '13:26:08', '13:28:39', '13:29:23', '13:30:42', '13:31:56', '13:32:01', '13:32:59', '13:33:27', '13:33:53', '13:34:15', '13:34:18', '13:34:28', '13:35:13', '13:35:22', '13:36:26', '13:36:32', '13:37:11', '13:37:17', '13:37:19', '13:38:02', '13:38:05', '13:39:39', '13:39:48', '13:40:34', '13:40:53', '13:42:14', '13:42:44', '13:42:54', '13:43:27', '13:44:20', '13:44:46', '13:46:18', '13:46:40', '13:47:08', '13:47:17', '13:47:19', '13:47:26', '13:48:03', '13:48:29', '13:50:10', '13:51:08', '13:52:05', '13:52:10', '13:52:30', '13:53:45', '13:54:02', '13:54:50', '13:55:04', '13:55:04', '13:56:07', '13:56:10', '13:56:11', '13:57:10', '13:57:35', '13:57:48', '13:58:15', '13:58:54', '13:59:57', '14:00:21', '14:02:24', '14:02:33', '14:03:08', '14:05:04', '14:05:43', '14:06:46', '14:07:09', '14:08:03', '14:08:47', '14:09:02', '14:09:04', '14:09:29', '14:09:49', '14:09:52', '14:09:52', '14:10:35', '14:10:41', '14:11:11', '14:11:26', '14:12:00', '14:12:20', '14:12:24', '14:12:46', '14:12:54', '14:13:13', '14:13:31', '14:14:06', '14:14:13', '14:14:26', '14:15:22', '14:15:25', '14:15:51', '14:15:55', '14:17:14', '14:18:56', '14:20:52', '14:21:41', '14:22:05', '14:22:46', '14:22:59', '14:23:54', '14:23:57', '14:24:20', '14:24:41', '14:25:38', '14:25:51', '14:26:08', '14:26:12', '14:26:16', '14:27:21', '14:27:23', '14:27:28', '14:28:20', '14:28:33', '14:28:56', '14:29:09', '14:30:27', '14:31:26', '14:31:32', '14:31:37', '14:31:43', '14:32:13', '14:32:16', '14:32:23', '14:32:26', '14:33:10', '14:34:28', '14:34:55', '14:34:59', '14:35:29', '14:35:53', '14:37:43', '14:38:12', '14:38:59', '14:40:36', '14:41:00', '14:41:21', '14:41:23', '14:41:31', '14:41:39', '14:41:50', '14:42:04', '14:42:11', '14:42:11', '14:42:39', '14:42:44', '14:44:14', '14:44:23', '14:44:47', '14:45:07', '14:46:11', '14:47:06', '14:47:59', '14:49:07', '14:49:54', '14:52:10', '14:52:29', '14:53:56', '14:55:23', '14:55:40', '14:55:45', '14:56:44', '14:57:30', '14:57:50', '14:58:04', '14:59:08', '15:00:25', '15:02:04', '15:02:18', '15:02:29', '15:02:31', '15:03:28', '15:03:42', '15:04:19', '15:04:31', '15:04:51', '15:05:07', '15:05:53', '15:06:00', '15:06:06', '15:06:15', '15:06:36', '15:07:13', '15:07:51', '15:08:11', '15:08:37', '15:09:01', '15:09:08', '15:09:48', '15:11:02', '15:11:12', '15:13:10', '15:15:00', '15:15:19', '15:15:48', '15:15:56', '15:16:36', '15:17:15', '15:17:37', '15:18:06', '15:18:35', '15:18:44', '15:18:45', '15:19:12', '15:19:20', '15:20:07', '15:20:20', '15:20:27', '15:20:57', '15:21:51', '15:23:17', '15:23:38', '15:23:47', '15:24:44', '15:25:31', '15:26:19', '15:26:25', '15:26:39', '15:27:16', '15:27:48', '15:27:48', '15:28:24', '15:29:18', '15:29:21', '15:30:37', '15:31:48', '15:32:54', '15:32:59', '15:33:19', '15:34:03', '15:34:20', '15:34:23', '15:34:27', '15:34:36', '15:35:42', '15:37:02', '15:37:12', '15:37:13', '15:38:07', '15:38:16', '15:38:36', '15:40:09', '15:41:08', '15:41:16', '15:42:04', '15:42:22', '15:43:08', '15:43:12', '12:34:48', '12:35:21', '12:35:34', '12:35:50', '12:35:55', '12:36:09', '12:36:14', '12:36:49', '12:36:53', '12:37:29', '12:37:45', '12:39:01', '12:39:05', '12:39:23', '12:41:11', '12:41:44', '12:42:21', '12:43:45', '12:43:56', '12:44:16', '12:44:16', '12:44:30', '12:44:33', '12:45:02', '12:45:19', '12:47:01', '12:47:39', '12:47:41', '12:49:10', '12:51:05', '12:51:59', '12:52:13', '12:52:21', '12:52:39', '12:53:48', '12:53:51', '12:54:06', '12:54:25', '12:55:25', '12:56:12', '12:57:23', '12:57:59', '12:59:08', '12:59:37', '13:00:07', '13:00:59', '13:01:13', '13:01:15', '13:01:38', '13:03:13', '13:03:28', '13:03:41', '13:04:13', '13:05:41', '13:06:31', '13:06:53', '13:06:56', '13:07:25', '13:07:52', '13:08:07', '13:08:15', '13:09:01', '13:10:11', '13:10:12', '13:10:29', '13:10:49', '13:11:15', '13:12:00', '13:12:14', '13:13:03', '13:13:35', '13:14:25', '13:15:33', '13:15:59', '13:16:09', '13:16:18', '13:16:31', '13:16:36', '13:17:33', '13:17:52', '13:17:59', '13:18:13', '13:18:39', '13:18:59', '13:20:15', '13:20:31', '13:20:37', '13:21:38', '13:21:54', '13:22:26', '13:22:56', '13:23:21', '13:24:01', '13:24:53', '13:25:16', '13:25:16', '13:25:39', '13:26:37', '13:26:58', '13:27:34', '13:28:06', '13:28:31', '13:29:34', '13:29:35', '13:29:39', '13:29:40', '13:30:15', '13:31:07', '13:31:25', '13:32:16', '13:35:19', '13:36:01', '13:36:14', '13:36:32', '13:36:47', '13:36:51', '13:37:07', '13:37:10', '13:37:35', '13:37:42', '13:38:04', '13:39:14', '13:39:38', '13:40:17', '13:40:42', '13:41:12', '13:41:55', '13:42:12', '13:43:07', '13:43:29', '13:44:04', '13:44:22', '13:47:06', '13:47:53', '13:48:08', '13:48:29', '13:48:36', '13:48:59', '13:49:45', '13:49:55', '13:49:55', '13:49:56', '13:49:58', '13:50:17', '13:50:26', '13:50:43', '13:52:44', '13:52:59', '13:53:10', '13:53:29', '13:54:09', '13:54:15', '13:55:00', '13:57:05', '13:57:41', '13:58:11', '13:58:31', '13:58:43', '14:00:12', '14:00:23', '14:01:05', '14:01:30', '14:02:55', '14:03:21', '14:04:08', '14:04:59', '14:05:21', '14:07:24', '14:07:34', '14:07:38', '14:07:39', '14:07:45', '14:08:00', '14:08:21', '14:09:14', '14:11:05', '14:12:11', '14:12:18', '14:12:26', '14:12:59', '14:14:14', '14:15:43', '14:16:03', '14:16:33', '14:16:48', '14:17:01', '14:17:25', '14:17:37', '14:18:15', '14:18:32', '14:18:39', '14:19:37', '14:19:43', '14:20:52', '14:21:09', '14:21:20', '14:21:46', '14:21:49', '14:22:24', '14:22:50', '14:22:52', '14:23:31', '14:23:32', '14:25:27', '14:25:47', '14:25:50', '14:25:58', '14:27:12', '14:27:46', '14:28:50', '14:28:51', '14:29:00', '14:29:37', '14:29:59', '14:30:22', '14:30:36', '14:30:46', '14:30:56', '14:31:31', '14:32:29', '14:32:57', '14:33:09', '14:33:10', '14:33:49', '14:36:10', '14:37:11', '14:37:49', '14:37:53', '14:38:11', '14:38:52', '14:39:27', '14:39:53', '14:40:20', '14:40:49', '14:40:49', '14:41:20', '14:41:58', '14:42:46', '14:42:56', '14:43:34', '14:43:49', '14:44:31', '14:46:31', '14:47:53', '14:49:20', '14:49:34', '14:50:14', '14:50:22', '14:51:35', '14:51:39', '14:51:55', '14:52:05', '14:52:30', '14:52:30', '14:52:46', '14:53:30', '14:53:32', '14:53:47', '14:53:52', '14:55:07', '14:55:30', '14:55:48', '14:57:23', '14:57:45', '14:58:32', '14:58:59', '14:59:21', '14:59:51', '15:00:11', '15:00:11', '15:00:47', '15:02:22', '15:02:48', '15:03:23', '15:03:38', '15:03:44', '15:03:59', '15:05:43', '15:06:15', '15:06:31', '15:07:03', '15:07:11', '15:08:12', '15:08:14', '15:11:50', '15:12:08', '15:12:08', '15:12:13', '15:12:53', '15:12:58', '15:14:12', '15:15:07', '15:15:18', '15:15:41', '15:16:17', '15:16:38', '15:17:42', '15:18:21', '15:19:14', '15:20:42', '15:20:53', '15:20:56', '15:21:20', '15:21:41', '15:24:03', '15:26:05', '15:26:56', '15:27:31', '15:27:45', '15:28:01', '15:28:13', '15:28:34', '15:29:13', '15:29:13', '15:29:30', '15:29:57', '15:30:37', '15:32:00', '15:32:05', '15:33:40', '15:34:18', '15:34:48', '15:35:08', '15:35:11', '15:35:26', '15:35:57', '15:36:01', '15:36:43', '15:36:52', '15:36:59', '15:37:09', '15:37:49', '15:38:07', '15:38:09', '15:38:13', '15:38:22', '15:38:54', '15:38:57', '15:39:31', '15:39:50', '15:40:59', '15:41:50', '15:42:11', '15:43:18', '12:35:00', '12:35:55', '12:35:56', '12:37:00', '12:37:04', '12:37:21', '12:37:43', '12:38:19', '12:39:00', '12:39:39', '12:41:28', '12:41:45', '12:42:39', '12:43:48', '12:45:23', '12:45:55', '12:46:04', '12:47:39', '12:48:35', '12:48:35', '12:48:41', '12:49:01', '12:49:13', '12:49:19', '12:49:40', '12:50:39', '12:50:47', '12:50:49', '12:51:17', '12:51:23', '12:51:32', '12:51:40', '12:52:58', '12:53:10', '12:53:52', '12:53:58', '12:54:53', '12:55:42', '12:55:45', '12:56:40', '12:56:42', '12:57:26', '12:57:43', '12:58:40', '12:58:49', '12:59:21', '12:59:23', '12:59:29', '13:00:47', '13:01:01', '13:02:10', '13:02:31', '13:02:37', '13:03:08', '13:03:37', '13:04:48', '13:05:00', '13:05:56', '13:06:28', '13:07:38', '13:08:11', '13:08:38', '13:08:38', '13:08:44', '13:09:11', '13:09:26', '13:10:51', '13:11:39', '13:12:54', '13:12:59', '13:13:09', '13:13:44', '13:13:50', '13:14:04', '13:14:15', '13:15:17', '13:15:28', '13:15:34', '13:15:39', '13:16:11', '13:17:33', '13:17:34', '13:17:37', '13:17:51', '13:17:59', '13:18:48', '13:22:51', '13:22:57', '13:23:24', '13:24:00', '13:24:02', '13:24:53', '13:24:59', '13:26:02', '13:26:36', '13:27:11', '13:27:40', '13:28:11', '13:28:33', '13:30:05', '13:30:37', '13:30:51', '13:32:09', '13:33:08', '13:33:51', '13:34:07', '13:34:37', '13:34:49', '13:35:55', '13:36:00', '13:37:43', '13:38:08', '13:38:47', '13:39:58', '13:40:02', '13:40:45', '13:41:04', '13:42:13', '13:42:28', '13:44:23', '13:45:02', '13:45:23', '13:47:00', '13:47:31', '13:48:02', '13:48:34', '13:49:21', '13:49:39', '13:49:50', '13:49:54', '13:50:05', '13:50:10', '13:50:31', '13:51:17', '13:52:25', '13:53:08', '13:54:35', '13:55:19', '13:55:28', '13:55:44', '13:55:49', '13:56:27', '13:57:27', '13:57:50', '13:59:09', '13:59:29', '13:59:56', '14:01:00', '14:01:05', '14:01:25', '14:01:42', '14:02:00', '14:02:01', '14:03:06', '14:04:58', '14:05:18', '14:05:33', '14:06:30', '14:06:54', '14:07:18', '14:08:06', '14:08:39', '14:09:09', '14:09:27', '14:10:14', '14:10:27', '14:10:45', '14:11:25', '14:11:33', '14:13:07', '14:14:16', '14:14:50', '14:16:28', '14:18:00', '14:18:11', '14:19:35', '14:20:47', '14:20:47', '14:20:52', '14:21:12', '14:21:14', '14:21:24', '14:22:29', '14:22:51', '14:23:05', '14:23:22', '14:23:37', '14:23:47', '14:25:00', '14:25:19', '14:25:38', '14:25:58', '14:26:27', '14:27:05', '14:27:41', '14:27:50', '14:28:25', '14:28:38', '14:28:50', '14:29:10', '14:29:39', '14:30:11', '14:30:13', '14:30:25', '14:31:19', '14:31:26', '14:31:40', '14:32:01', '14:33:06', '14:34:35', '14:35:03', '14:36:18', '14:36:20', '14:36:21', '14:36:45', '14:36:56', '14:37:12', '14:38:08', '14:38:11', '14:38:44', '14:38:56', '14:39:03', '14:39:17', '14:41:21', '14:41:43', '14:41:58', '14:42:02', '14:43:45', '14:44:00', '14:44:13', '14:45:12', '14:45:27', '14:45:37', '14:46:14', '14:46:39', '14:47:29', '14:47:30', '14:47:39', '14:48:36', '14:48:58', '14:50:29', '14:51:00', '14:51:15', '14:52:02', '14:53:42', '14:54:48', '14:55:32', '14:56:36', '14:57:23', '14:57:55', '14:58:04', '14:58:27', '14:58:52', '14:59:15', '14:59:30', '14:59:46', '15:02:25', '15:02:51', '15:02:59', '15:03:05', '15:03:05', '15:03:41', '15:03:42', '15:04:04', '15:04:28', '15:04:33', '15:05:19', '15:06:09', '15:06:18', '15:06:32', '15:06:46', '15:07:21', '15:08:11', '15:08:51', '15:09:12', '15:09:16', '15:11:07', '15:11:51', '15:12:04', '15:12:18', '15:13:45', '15:13:52', '15:14:06', '15:14:11', '15:15:02', '15:15:38', '15:15:52', '15:16:08', '15:16:34', '15:17:46', '15:17:49', '15:18:04', '15:19:53', '15:20:18', '15:20:58', '15:21:12', '15:21:35', '15:21:48', '15:21:58', '15:21:59', '15:22:05', '15:22:17', '15:22:44', '15:22:48', '15:22:49', '15:24:03', '15:24:08', '15:26:03', '15:27:00', '15:28:36', '15:29:05', '15:29:27', '15:30:58', '15:31:25', '15:32:15', '15:32:51', '15:35:23', '15:36:55', '15:37:08', '15:37:10', '15:38:34', '15:39:19', '15:39:31', '15:40:07', '15:40:19', '15:41:37', '15:43:03', '15:43:26', '15:44:03', '15:44:05']\n",
            "Usuario [51.0, 51.0, 51.0, 51.0, 51.0, 51.0, 51.0, 51.0, 51.0, 51.0, 51.0, 51.0, 51.0, 51.0, 51.0, 51.0, 51.0, 51.0, 51.0, 51.0, 51.0, 51.0, 51.0, 51.0, 51.0, 51.0, 51.0, 51.0, 51.0, 51.0, 51.0, 51.0, 51.0, 51.0, 51.0, 51.0, 51.0, 51.0, 51.0, 51.0, 51.0, 51.0, 51.0, 51.0, 51.0, 51.0, 51.0, 51.0, 51.0, 51.0, 51.0, 51.0, 51.0, 51.0, 51.0, 51.0, 51.0, 51.0, 51.0, 51.0, 51.0, 51.0, 51.0, 51.0, 51.0, 51.0, 51.0, 51.0, 51.0, 51.0, 51.0, 51.0, 51.0, 51.0, 51.0, 51.0, 51.0, 51.0, 51.0, 51.0, 51.0, 51.0, 51.0, 51.0, 51.0, 51.0, 51.0, 51.0, 51.0, 51.0, 51.0, 51.0, 51.0, 51.0, 51.0, 51.0, 51.0, 51.0, 51.0, 51.0, 51.0, 51.0, 51.0, 51.0, 51.0, 51.0, 51.0, 51.0, 51.0, 51.0, 51.0, 51.0, 51.0, 51.0, 51.0, 51.0, 51.0, 51.0, 51.0, 51.0, 51.0, 51.0, 51.0, 51.0, 51.0, 51.0, 51.0, 51.0, 51.0, 51.0, 51.0, 51.0, 51.0, 51.0, 51.0, 51.0, 51.0, 51.0, 51.0, 51.0, 51.0, 51.0, 51.0, 51.0, 51.0, 51.0, 51.0, 51.0, 51.0, 51.0, 51.0, 51.0, 51.0, 51.0, 51.0, 51.0, 51.0, 51.0, 51.0, 51.0, 51.0, 51.0, 51.0, 51.0, 51.0, 51.0, 51.0, 51.0, 51.0, 51.0, 51.0, 51.0, 51.0, 51.0, 51.0, 51.0, 51.0, 51.0, 51.0, 51.0, 51.0, 51.0, 51.0, 51.0, 51.0, 51.0, 51.0, 51.0, 51.0, 51.0, 51.0, 51.0, 51.0, 51.0, 51.0, 51.0, 51.0, 51.0, 51.0, 51.0, 51.0, 51.0, 51.0, 51.0, 51.0, 51.0, 51.0, 51.0, 51.0, 51.0, 51.0, 51.0, 51.0, 51.0, 51.0, 51.0, 51.0, 51.0, 51.0, 51.0, 51.0, 51.0, 51.0, 51.0, 51.0, 51.0, 51.0, 51.0, 51.0, 51.0, 51.0, 51.0, 51.0, 51.0, 51.0, 51.0, 51.0, 51.0, 51.0, 51.0, 51.0, 51.0, 51.0, 51.0, 51.0, 51.0, 51.0, 51.0, 51.0, 51.0, 51.0, 51.0, 51.0, 51.0, 51.0, 51.0, 51.0, 51.0, 51.0, 51.0, 51.0, 51.0, 51.0, 51.0, 51.0, 51.0, 51.0, 51.0, 51.0, 51.0, 51.0, 51.0, 51.0, 51.0, 51.0, 51.0, 51.0, 51.0, 51.0, 51.0, 51.0, 51.0, 51.0, 51.0, 51.0, 51.0, 51.0, 51.0, 51.0, 51.0, 51.0, 51.0, 51.0, 51.0, 51.0, 51.0, 51.0, 51.0, 51.0, 51.0, 51.0, 51.0, 51.0, 51.0, 51.0, 51.0, 51.0, 51.0, 51.0, 51.0, 51.0, 51.0, 51.0, 51.0, 51.0, 51.0, 51.0, 51.0, 51.0, 51.0, 51.0, 51.0, 51.0, 51.0, 51.0, 51.0, 51.0, 51.0, 51.0, 51.0, 51.0, 51.0, 51.0, 51.0, 51.0, 51.0, 51.0, 51.0, 51.0, 51.0, 51.0, 51.0, 51.0, 51.0, 51.0, 51.0, 51.0, 51.0, 51.0, 51.0, 51.0, 51.0, 51.0, 51.0, 51.0, 51.0, 51.0, 51.0, 51.0, 51.0, 51.0, 51.0, 51.0, 51.0, 51.0, 51.0, 51.0, 51.0, 51.0, 51.0, 51.0, 51.0, 51.0, 51.0, 51.0, 51.0, 51.0, 51.0, 51.0, 51.0, 51.0, 51.0, 51.0, 51.0, 51.0, 51.0, 51.0, 51.0, 51.0, 51.0, 51.0, 51.0, 51.0, 51.0, 51.0, 51.0, 51.0, 51.0, 51.0, 51.0, 51.0, 51.0, 51.0, 51.0, 51.0, 51.0, 51.0, 51.0, 51.0, 51.0, 51.0, 51.0, 51.0, 51.0, 51.0, 51.0, 51.0, 51.0, 51.0, 51.0, 51.0, 51.0, 51.0, 51.0, 51.0, 51.0, 51.0, 51.0, 51.0, 51.0, 51.0, 51.0, 51.0, 51.0, 51.0, 51.0, 51.0, 51.0, 51.0, 51.0, 51.0, 51.0, 51.0, 51.0, 51.0, 51.0, 51.0, 51.0, 51.0, 51.0, 51.0, 51.0, 51.0, 51.0, 51.0, 51.0, 51.0, 51.0, 51.0, 51.0, 51.0, 51.0, 51.0, 51.0, 51.0, 51.0, 51.0, 51.0, 51.0, 51.0, 51.0, 51.0, 51.0, 51.0, 51.0, 51.0, 51.0, 51.0, 51.0, 51.0, 51.0, 51.0, 51.0, 51.0, 51.0, 51.0, 51.0, 51.0, 51.0, 51.0, 51.0, 51.0, 51.0, 51.0, 51.0, 51.0, 51.0, 51.0, 51.0, 51.0, 51.0, 51.0, 51.0, 51.0, 51.0, 51.0, 51.0, 51.0, 51.0, 51.0, 51.0, 51.0, 51.0, 51.0, 51.0, 51.0, 51.0, 51.0, 51.0, 51.0, 51.0, 51.0, 51.0, 51.0, 51.0, 51.0, 51.0, 51.0, 51.0, 51.0, 51.0, 51.0, 51.0, 51.0, 51.0, 51.0, 51.0, 51.0, 51.0, 51.0, 51.0, 51.0, 51.0, 51.0, 51.0, 51.0, 51.0, 51.0, 51.0, 51.0, 51.0, 51.0, 51.0, 51.0, 51.0, 51.0, 51.0, 51.0, 51.0, 51.0, 51.0, 51.0, 51.0, 51.0, 51.0, 51.0, 51.0, 51.0, 51.0, 51.0, 51.0, 51.0, 51.0, 51.0, 51.0, 51.0, 51.0, 51.0, 51.0, 51.0, 51.0, 51.0, 51.0, 51.0, 51.0, 51.0, 51.0, 51.0, 51.0, 51.0, 51.0, 51.0, 51.0, 51.0, 51.0, 51.0, 51.0, 51.0, 51.0, 51.0, 51.0, 51.0, 51.0, 51.0, 51.0, 51.0, 51.0, 51.0, 51.0, 51.0, 51.0, 51.0, 51.0, 51.0, 51.0, 51.0, 51.0, 51.0, 51.0, 51.0, 51.0, 51.0, 51.0, 51.0, 51.0, 51.0, 51.0, 51.0, 51.0, 51.0, 51.0, 51.0, 51.0, 51.0, 51.0, 51.0, 51.0, 51.0, 51.0, 51.0, 51.0, 51.0, 51.0, 51.0, 51.0, 51.0, 51.0, 51.0, 51.0, 51.0, 51.0, 51.0, 51.0, 51.0, 51.0, 51.0, 51.0, 51.0, 51.0, 51.0, 51.0, 51.0, 51.0, 51.0, 51.0, 51.0, 51.0, 51.0, 51.0, 51.0, 51.0, 51.0, 51.0, 51.0, 51.0, 51.0, 51.0, 51.0, 51.0, 51.0, 51.0, 51.0, 51.0, 51.0, 51.0, 51.0, 51.0, 51.0, 51.0, 51.0, 51.0, 51.0, 51.0, 51.0, 51.0, 51.0, 51.0, 51.0, 51.0, 51.0, 51.0, 51.0, 51.0, 51.0, 51.0, 51.0, 51.0, 51.0, 51.0, 51.0, 51.0, 51.0, 51.0, 51.0, 51.0, 51.0, 51.0, 51.0, 51.0, 51.0, 51.0, 51.0, 51.0, 51.0, 51.0, 51.0, 51.0, 51.0, 51.0, 51.0, 51.0, 51.0, 51.0, 51.0, 51.0, 51.0, 51.0, 51.0, 51.0, 51.0, 51.0, 51.0, 51.0, 51.0, 51.0, 51.0, 51.0, 51.0, 51.0, 51.0, 51.0, 51.0, 51.0, 51.0, 51.0, 51.0, 51.0, 51.0, 51.0, 51.0, 51.0, 51.0, 51.0, 51.0, 51.0, 51.0, 51.0, 51.0, 51.0, 51.0, 51.0, 51.0, 51.0, 51.0, 51.0, 51.0, 51.0, 51.0, 51.0, 51.0, 51.0, 51.0, 51.0, 51.0, 51.0, 51.0, 51.0, 51.0, 51.0, 51.0, 51.0, 51.0, 51.0, 51.0, 51.0, 51.0, 51.0, 51.0, 51.0, 51.0, 51.0, 51.0, 51.0, 51.0, 51.0, 51.0, 51.0, 51.0, 51.0, 51.0, 51.0, 51.0, 51.0, 51.0, 51.0, 51.0, 51.0, 51.0, 51.0, 51.0, 51.0, 51.0, 51.0, 51.0, 51.0, 51.0, 51.0, 51.0, 51.0, 51.0, 51.0, 51.0, 51.0, 51.0, 51.0, 51.0, 51.0, 51.0, 51.0, 51.0, 51.0, 51.0, 51.0, 51.0, 51.0, 51.0, 51.0, 51.0, 51.0, 51.0, 51.0, 51.0, 51.0, 51.0, 51.0, 51.0, 51.0, 51.0, 51.0, 51.0, 51.0, 51.0, 51.0, 51.0, 51.0, 51.0, 51.0, 51.0, 51.0, 51.0, 51.0, 51.0, 51.0, 51.0, 51.0, 51.0, 51.0, 51.0, 51.0, 51.0, 51.0, 51.0, 51.0, 51.0, 51.0, 51.0, 51.0, 51.0, 51.0, 51.0, 51.0, 51.0, 51.0, 51.0, 51.0, 51.0, 51.0, 51.0, 51.0, 51.0, 51.0, 51.0, 51.0, 51.0, 51.0, 51.0, 51.0, 51.0, 51.0, 51.0, 51.0, 51.0, 51.0, 51.0, 51.0, 51.0, 51.0, 51.0, 51.0, 51.0, 51.0, 51.0, 51.0, 51.0, 51.0, 51.0, 51.0, 51.0, 51.0, 51.0, 51.0, 51.0, 51.0, 51.0, 51.0, 51.0, 51.0, 51.0, 51.0, 51.0, 51.0, 51.0, 51.0, 51.0, 51.0, 51.0, 51.0, 51.0, 51.0, 51.0, 51.0, 51.0, 51.0, 51.0, 51.0, 51.0, 51.0, 51.0, 51.0, 51.0, 51.0, 51.0, 51.0, 51.0, 51.0, 51.0, 51.0, 51.0, 51.0, 51.0, 51.0, 51.0, 51.0, 51.0, 51.0, 51.0, 51.0, 51.0, 51.0, 51.0, 51.0, 51.0, 51.0, 51.0, 51.0, 51.0, 51.0, 51.0, 51.0, 51.0, 51.0, 51.0, 51.0, 51.0, 51.0, 51.0, 51.0, 51.0, 51.0, 51.0, 51.0, 51.0, 51.0, 51.0, 51.0, 51.0, 51.0, 51.0, 51.0, 51.0, 51.0, 51.0, 51.0, 51.0, 51.0, 51.0, 51.0, 51.0, 51.0, 51.0, 51.0, 51.0, 51.0, 51.0, 51.0, 51.0, 51.0, 51.0, 51.0, 51.0, 51.0, 51.0, 51.0, 51.0, 51.0, 51.0, 51.0, 51.0, 51.0, 51.0, 51.0, 51.0, 51.0, 51.0, 51.0, 51.0, 51.0, 51.0, 51.0, 51.0, 51.0, 51.0, 51.0, 51.0, 51.0, 51.0, 51.0, 51.0, 51.0, 51.0, 51.0, 51.0, 51.0, 51.0, 51.0, 51.0, 51.0, 51.0, 51.0, 51.0, 51.0, 51.0, 51.0, 51.0, 51.0, 51.0, 51.0, 51.0, 51.0, 51.0, 51.0, 51.0, 51.0, 51.0, 51.0, 51.0, 51.0, 51.0, 51.0, 51.0, 51.0, 51.0, 51.0, 51.0, 51.0, 51.0, 51.0, 51.0, 51.0, 51.0, 51.0, 51.0, 51.0, 51.0, 51.0, 51.0, 51.0, 51.0, 51.0, 51.0, 51.0, 51.0, 51.0, 51.0, 51.0, 51.0, 51.0, 51.0, 51.0, 51.0, 51.0, 51.0, 51.0, 51.0, 51.0, 51.0, 51.0, 51.0, 51.0, 51.0, 51.0, 51.0, 51.0, 51.0, 51.0, 51.0, 51.0, 51.0, 51.0, 51.0, 51.0, 51.0, 51.0, 51.0, 51.0, 51.0, 51.0, 51.0, 51.0, 51.0, 51.0, 51.0, 51.0, 51.0, 51.0, 51.0, 51.0, 51.0, 51.0, 51.0, 51.0, 51.0, 51.0, 51.0, 51.0, 51.0, 51.0, 51.0, 51.0, 51.0, 51.0, 51.0, 51.0, 51.0, 51.0, 51.0, 51.0, 51.0, 51.0, 51.0, 51.0, 51.0, 51.0, 51.0, 51.0, 51.0, 51.0, 51.0, 51.0, 51.0, 51.0, 51.0, 51.0, 51.0, 51.0, 51.0, 51.0, 51.0, 51.0, 51.0, 51.0, 51.0, 51.0, 51.0, 51.0, 51.0, 51.0, 51.0, 51.0, 51.0, 51.0, 51.0, 51.0, 51.0, 51.0, 51.0, 51.0, 51.0, 51.0, 51.0, 51.0, 51.0, 51.0, 51.0, 51.0, 51.0, 51.0, 51.0, 51.0, 51.0, 51.0, 51.0, 51.0, 51.0, 51.0, 51.0, 51.0, 51.0, 51.0, 51.0, 51.0, 51.0, 51.0, 51.0, 51.0, 51.0, 51.0, 51.0, 51.0, 51.0, 51.0, 51.0, 51.0, 51.0, 51.0, 51.0, 51.0, 51.0, 51.0, 51.0, 51.0, 51.0, 51.0, 51.0, 51.0, 51.0, 51.0, 51.0, 51.0, 51.0, 51.0, 51.0, 51.0, 51.0, 51.0, 51.0, 51.0, 51.0, 51.0, 51.0, 51.0, 51.0, 51.0, 51.0, 51.0, 51.0, 51.0, 51.0, 51.0, 51.0, 51.0, 51.0, 51.0, 51.0, 51.0, 51.0, 51.0, 51.0, 51.0, 51.0, 51.0, 51.0, 51.0, 51.0, 51.0, 51.0, 51.0, 51.0, 51.0, 51.0, 51.0, 51.0, 51.0, 51.0, 51.0, 51.0, 51.0, 51.0, 51.0, 51.0, 51.0, 51.0, 51.0, 51.0, 51.0, 51.0, 51.0, 51.0, 51.0, 51.0, 51.0, 51.0, 51.0, 51.0, 51.0, 51.0, 51.0, 51.0, 51.0, 51.0, 51.0, 51.0, 51.0, 51.0, 51.0, 51.0, 51.0, 51.0, 51.0, 51.0, 51.0, 51.0, 51.0, 51.0, 51.0, 51.0, 51.0, 51.0, 51.0, 51.0, 51.0, 51.0, 51.0, 51.0, 51.0, 51.0, 51.0, 51.0, 51.0, 51.0, 51.0, 51.0, 51.0, 51.0, 51.0, 51.0, 51.0, 51.0, 51.0, 51.0, 51.0, 51.0, 51.0, 51.0, 51.0, 51.0, 51.0, 51.0, 51.0, 51.0, 51.0, 51.0, 51.0, 51.0, 51.0, 51.0, 51.0, 51.0, 51.0, 51.0, 51.0, 51.0, 51.0, 51.0, 51.0, 51.0, 51.0, 51.0, 51.0, 51.0, 51.0, 51.0, 51.0, 51.0, 51.0, 51.0, 51.0, 51.0, 51.0, 51.0, 51.0, 51.0, 51.0, 51.0, 51.0, 51.0, 51.0, 51.0, 51.0, 51.0, 51.0, 51.0, 51.0, 51.0, 51.0, 51.0, 51.0, 51.0, 51.0, 51.0, 51.0, 51.0, 51.0, 51.0, 51.0, 51.0, 51.0, 51.0, 51.0, 51.0, 51.0, 51.0, 51.0, 51.0, 51.0, 51.0, 51.0, 51.0, 51.0, 51.0, 51.0, 51.0, 51.0, 51.0, 51.0, 51.0, 51.0, 51.0, 51.0, 51.0, 51.0, 51.0, 51.0, 51.0, 51.0, 51.0, 51.0, 51.0, 51.0, 51.0, 51.0, 51.0, 51.0, 51.0, 51.0, 51.0, 51.0, 51.0, 51.0, 51.0, 51.0, 51.0, 51.0, 51.0, 51.0, 51.0, 51.0, 51.0, 51.0, 51.0, 51.0, 51.0, 51.0, 51.0, 51.0, 51.0, 51.0, 51.0, 51.0, 51.0, 51.0, 51.0, 51.0, 51.0, 51.0, 51.0, 51.0, 51.0, 51.0, 51.0, 51.0, 51.0, 51.0, 51.0, 51.0, 51.0, 51.0, 51.0, 51.0, 51.0, 51.0, 51.0, 51.0, 51.0, 51.0, 51.0, 51.0, 51.0, 51.0, 51.0, 51.0, 51.0, 51.0, 51.0, 51.0, 51.0, 51.0, 51.0, 51.0, 51.0, 51.0, 51.0, 51.0, 51.0, 51.0, 51.0, 51.0, 51.0, 51.0, 51.0, 51.0, 51.0, 51.0, 51.0, 51.0, 51.0, 51.0, 51.0, 51.0, 51.0, 51.0, 51.0, 51.0, 51.0, 51.0, 51.0, 51.0, 51.0, 51.0, 51.0, 51.0, 51.0, 51.0, 51.0, 51.0, 51.0, 51.0, 51.0, 51.0, 51.0, 51.0, 51.0, 51.0, 51.0, 51.0, 51.0, 51.0, 51.0, 51.0, 51.0, 51.0, 51.0, 51.0, 51.0, 51.0, 51.0, 51.0, 51.0, 51.0, 51.0, 51.0, 51.0, 51.0, 51.0, 51.0, 51.0, 51.0, 51.0, 51.0, 51.0, 51.0, 51.0, 51.0, 51.0, 51.0, 51.0, 51.0, 51.0, 51.0, 51.0, 51.0, 51.0, 51.0, 51.0, 51.0, 51.0, 51.0, 51.0, 51.0, 51.0, 51.0, 51.0, 51.0, 51.0, 51.0, 51.0, 51.0, 51.0, 51.0, 51.0, 51.0, 51.0, 51.0, 51.0, 51.0, 51.0, 51.0, 51.0, 51.0, 51.0, 51.0, 51.0, 51.0, 51.0, 51.0, 51.0, 51.0, 51.0, 51.0, 51.0, 51.0, 51.0, 51.0, 51.0, 51.0, 51.0, 51.0, 51.0, 51.0, 51.0, 51.0, 51.0, 51.0, 51.0, 51.0, 51.0, 51.0, 51.0, 51.0, 51.0, 51.0, 51.0, 51.0, 51.0, 51.0, 51.0, 51.0, 51.0, 51.0, 51.0, 51.0, 51.0, 51.0, 51.0, 51.0, 51.0, 51.0, 51.0, 51.0, 51.0, 51.0, 51.0, 51.0, 51.0, 51.0, 51.0, 51.0, 51.0, 51.0, 51.0, 51.0, 51.0, 51.0, 51.0, 51.0, 51.0, 51.0, 51.0, 51.0, 51.0, 51.0, 51.0, 51.0, 51.0, 51.0, 51.0, 51.0, 51.0, 51.0, 51.0, 51.0, 51.0, 51.0, 51.0, 51.0, 51.0, 51.0, 51.0, 51.0, 51.0, 51.0, 51.0, 51.0, 51.0, 51.0, 51.0, 51.0, 51.0, 51.0, 51.0, 51.0, 51.0, 51.0, 51.0, 51.0, 51.0, 51.0, 51.0, 51.0, 51.0, 51.0, 51.0, 51.0, 51.0, 51.0, 51.0, 51.0, 51.0, 51.0, 51.0, 51.0, 51.0, 51.0, 51.0, 51.0, 51.0, 51.0, 51.0, 51.0, 51.0, 51.0, 51.0, 51.0, 51.0, 51.0, 51.0, 51.0, 51.0, 51.0, 51.0, 51.0, 51.0, 51.0, 51.0, 51.0, 51.0, 51.0, 51.0, 51.0, 51.0, 51.0, 51.0, 51.0, 51.0, 51.0, 51.0, 51.0, 51.0, 51.0, 51.0, 51.0, 51.0, 51.0, 51.0]\n",
            "<class 'float'>\n"
          ],
          "name": "stdout"
        }
      ]
    },
    {
      "cell_type": "markdown",
      "metadata": {
        "id": "iv-qJ0UdjBRY"
      },
      "source": [
        "##Frecuencia de tiempos (Grafico)"
      ]
    },
    {
      "cell_type": "code",
      "metadata": {
        "colab": {
          "base_uri": "https://localhost:8080/",
          "height": 265
        },
        "id": "3vELdnKSC5lZ",
        "outputId": "320231f5-c13e-405c-fb7e-33dc14412cc1"
      },
      "source": [
        "for i in range(100):\n",
        "\n",
        "  plt.plot([listdictdf_userMax2[i]], [listdictdf_userMax[i]])\n",
        "plt.show()"
      ],
      "execution_count": null,
      "outputs": [
        {
          "output_type": "display_data",
          "data": {
            "image/png": "[encoded data removed]",
            "text/plain": [
              "<Figure size 432x288 with 1 Axes>"
            ]
          },
          "metadata": {
            "tags": [],
            "needs_background": "light"
          }
        }
      ]
    }
  ]
}