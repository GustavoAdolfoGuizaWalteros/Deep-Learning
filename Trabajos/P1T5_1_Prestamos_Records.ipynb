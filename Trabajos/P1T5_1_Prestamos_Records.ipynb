{
  "nbformat": 4,
  "nbformat_minor": 0,
  "metadata": {
    "colab": {
      "name": "P1T5.1_Prestamos_Records.ipynb",
      "provenance": [],
      "collapsed_sections": [],
      "toc_visible": true
    },
    "kernelspec": {
      "name": "python3",
      "display_name": "Python 3"
    },
    "language_info": {
      "name": "python"
    }
  },
  "cells": [
    {
      "cell_type": "markdown",
      "metadata": {
        "id": "IdSzXrTDDxGI"
      },
      "source": [
        "#**Prestamos_records.csv**\n",
        "\n",
        "---\n",
        "\n"
      ]
    },
    {
      "cell_type": "markdown",
      "metadata": {
        "id": "7XJw_C2tQmXh"
      },
      "source": [
        "#**TABLA GENERAL**"
      ]
    },
    {
      "cell_type": "code",
      "metadata": {
        "colab": {
          "base_uri": "https://localhost:8080/",
          "height": 359
        },
        "id": "DPnsT7hCDzA7",
        "outputId": "5922df74-600e-4d07-8402-f2f1528ae462"
      },
      "source": [
        "import pandas as pd\n",
        "df = pd.read_csv(\"https://raw.githubusercontent.com/luisFernandoCastellanosG/Machine_learning/master/DataScience/DataSet's/prestamos_records.csv\")\n",
        "df.head(10) #Cambia cuantas filas se visualiza"
      ],
      "execution_count": null,
      "outputs": [
        {
          "output_type": "execute_result",
          "data": {
            "text/html": [
              "<div>\n",
              "<style scoped>\n",
              "    .dataframe tbody tr th:only-of-type {\n",
              "        vertical-align: middle;\n",
              "    }\n",
              "\n",
              "    .dataframe tbody tr th {\n",
              "        vertical-align: top;\n",
              "    }\n",
              "\n",
              "    .dataframe thead th {\n",
              "        text-align: right;\n",
              "    }\n",
              "</style>\n",
              "<table border=\"1\" class=\"dataframe\">\n",
              "  <thead>\n",
              "    <tr style=\"text-align: right;\">\n",
              "      <th></th>\n",
              "      <th>RECORD_CREATION_DATE</th>\n",
              "      <th>MONTO_DEL_PRESTAMO</th>\n",
              "      <th>RANGO_DEL_CREDITO</th>\n",
              "      <th>DEUDA_EXISTENTE</th>\n",
              "      <th>NOTAS_DEL_AGENTE</th>\n",
              "      <th>UBICACION_DE_LA_OFICINA</th>\n",
              "      <th>PRESTAMO_INCUMPLIDO</th>\n",
              "    </tr>\n",
              "  </thead>\n",
              "  <tbody>\n",
              "    <tr>\n",
              "      <th>0</th>\n",
              "      <td>01May2014:09:24:27.000000</td>\n",
              "      <td>2500</td>\n",
              "      <td>760-779</td>\n",
              "      <td>$10,001-$20,000</td>\n",
              "      <td>NaN</td>\n",
              "      <td>NORTHERN CALIFORNIA</td>\n",
              "      <td>FALSO</td>\n",
              "    </tr>\n",
              "    <tr>\n",
              "      <th>1</th>\n",
              "      <td>01May2014:09:48:36.000000</td>\n",
              "      <td>2500</td>\n",
              "      <td>700-719</td>\n",
              "      <td>$1-$10,000</td>\n",
              "      <td>Ingreso anual neto: $25,400</td>\n",
              "      <td>SOUTHERN CALIFORNIA</td>\n",
              "      <td>FALSO</td>\n",
              "    </tr>\n",
              "    <tr>\n",
              "      <th>2</th>\n",
              "      <td>01May2014:10:10:36.000000</td>\n",
              "      <td>6300</td>\n",
              "      <td>740-759</td>\n",
              "      <td>$100,000+</td>\n",
              "      <td>NaN</td>\n",
              "      <td>ARIZONA</td>\n",
              "      <td>VERDADERO</td>\n",
              "    </tr>\n",
              "    <tr>\n",
              "      <th>3</th>\n",
              "      <td>01May2014:10:31:25.000000</td>\n",
              "      <td>4300</td>\n",
              "      <td>780-799</td>\n",
              "      <td>$1-$10,000</td>\n",
              "      <td>Ingreso anual neto: $191,900</td>\n",
              "      <td>SOUTHERN CALIFORNIA</td>\n",
              "      <td>FALSO</td>\n",
              "    </tr>\n",
              "    <tr>\n",
              "      <th>4</th>\n",
              "      <td>01May2014:10:46:54.000000</td>\n",
              "      <td>20100</td>\n",
              "      <td>780-799</td>\n",
              "      <td>$90,001-$100,000</td>\n",
              "      <td>Pagos mensuales de deuda verificados: $1,700</td>\n",
              "      <td>SOUTHERN CALIFORNIA</td>\n",
              "      <td>VERDADERO</td>\n",
              "    </tr>\n",
              "    <tr>\n",
              "      <th>5</th>\n",
              "      <td>01May2014:11:14:12.000000</td>\n",
              "      <td>6600</td>\n",
              "      <td>760-779</td>\n",
              "      <td>$10,001-$20,000</td>\n",
              "      <td>NaN</td>\n",
              "      <td>NORTHERN CALIFORNIA</td>\n",
              "      <td>FALSO</td>\n",
              "    </tr>\n",
              "    <tr>\n",
              "      <th>6</th>\n",
              "      <td>01May2014:11:23:11.000000</td>\n",
              "      <td>2500</td>\n",
              "      <td>700-719</td>\n",
              "      <td>$100,000+</td>\n",
              "      <td>Ingreso anual neto: $63,100</td>\n",
              "      <td>ARIZONA</td>\n",
              "      <td>VERDADERO</td>\n",
              "    </tr>\n",
              "    <tr>\n",
              "      <th>7</th>\n",
              "      <td>01May2014:11:53:24.000000</td>\n",
              "      <td>10000</td>\n",
              "      <td>760-779</td>\n",
              "      <td>$20,001-$30,000</td>\n",
              "      <td>NaN</td>\n",
              "      <td>SOUTHERN CALIFORNIA</td>\n",
              "      <td>FALSO</td>\n",
              "    </tr>\n",
              "    <tr>\n",
              "      <th>8</th>\n",
              "      <td>01May2014:12:18:53.000000</td>\n",
              "      <td>8900</td>\n",
              "      <td>740-759</td>\n",
              "      <td>$80,001-$90,000</td>\n",
              "      <td>NaN</td>\n",
              "      <td>NORTHERN CALIFORNIA</td>\n",
              "      <td>FALSO</td>\n",
              "    </tr>\n",
              "    <tr>\n",
              "      <th>9</th>\n",
              "      <td>01May2014:12:32:41.000000</td>\n",
              "      <td>2500</td>\n",
              "      <td>760-779</td>\n",
              "      <td>$30,001-$40,000</td>\n",
              "      <td>Pagos mensuales de deuda verificados: $590...I...</td>\n",
              "      <td>NORTHERN CALIFORNIA</td>\n",
              "      <td>FALSO</td>\n",
              "    </tr>\n",
              "  </tbody>\n",
              "</table>\n",
              "</div>"
            ],
            "text/plain": [
              "        RECORD_CREATION_DATE  ...  PRESTAMO_INCUMPLIDO\n",
              "0  01May2014:09:24:27.000000  ...                FALSO\n",
              "1  01May2014:09:48:36.000000  ...                FALSO\n",
              "2  01May2014:10:10:36.000000  ...            VERDADERO\n",
              "3  01May2014:10:31:25.000000  ...                FALSO\n",
              "4  01May2014:10:46:54.000000  ...            VERDADERO\n",
              "5  01May2014:11:14:12.000000  ...                FALSO\n",
              "6  01May2014:11:23:11.000000  ...            VERDADERO\n",
              "7  01May2014:11:53:24.000000  ...                FALSO\n",
              "8  01May2014:12:18:53.000000  ...                FALSO\n",
              "9  01May2014:12:32:41.000000  ...                FALSO\n",
              "\n",
              "[10 rows x 7 columns]"
            ]
          },
          "metadata": {
            "tags": []
          },
          "execution_count": 1
        }
      ]
    },
    {
      "cell_type": "markdown",
      "metadata": {
        "id": "Lqra6Hk9JDVK"
      },
      "source": [
        "#**Filtros**"
      ]
    },
    {
      "cell_type": "markdown",
      "metadata": {
        "id": "qDpdyAcXbBsC"
      },
      "source": [
        "#Record Creation date"
      ]
    },
    {
      "cell_type": "markdown",
      "metadata": {
        "id": "s1DJ6DSebJJx"
      },
      "source": [
        "##Filtrar por Dia, mes y año"
      ]
    },
    {
      "cell_type": "code",
      "metadata": {
        "id": "SfVb6m6abUIH"
      },
      "source": [
        "import matplotlib.pyplot as plt\n",
        "import pandas as pd \n",
        "\n",
        "df = pd.read_csv(\"https://raw.githubusercontent.com/luisFernandoCastellanosG/Machine_learning/master/DataScience/DataSet's/prestamos_records.csv\")\n",
        "\n",
        "#print(type(df.RECORD_CREATION_DATE))#Saber el tipo de la tabla\n",
        "#print(df.RECORD_CREATION_DATE)#Tipo de Epoch timestamps\n",
        "#print((dict(df.RECORD_CREATION_DATE).values()))#Mostrar en modo diccionario los valores\n",
        "#print(list(df.RECORD_CREATION_DATE))#Mostrar en lista las fechas\n",
        "\n",
        "#Mucha documentacion leida y no sirvio nada de lo que probe :("
      ],
      "execution_count": null,
      "outputs": []
    },
    {
      "cell_type": "markdown",
      "metadata": {
        "id": "5QeXtNx573eJ"
      },
      "source": [
        "#MONTO DEL PRESTAMO"
      ]
    },
    {
      "cell_type": "markdown",
      "metadata": {
        "id": "ruCPjLBQ765A"
      },
      "source": [
        "##Ver y contar cantidades de prestamo en un rango determinado"
      ]
    },
    {
      "cell_type": "code",
      "metadata": {
        "colab": {
          "base_uri": "https://localhost:8080/"
        },
        "id": "YcpM_Ja58RDA",
        "outputId": "47b7c1ee-f603-4eb4-d528-d81914dd0ef5"
      },
      "source": [
        "import matplotlib.pyplot as plt\n",
        "import pandas as pd\n",
        "\n",
        "df = pd.read_csv(\"https://raw.githubusercontent.com/luisFernandoCastellanosG/Machine_learning/master/DataScience/DataSet's/prestamos_records.csv\")\n",
        "\n",
        "dictMontoPres = dict(df.value_counts(\"MONTO_DEL_PRESTAMO\"))\n",
        "\n",
        "for i in range(len(dictMontoPres)):\n",
        "  print(f\"\",list(dictMontoPres.values())[i],\"Personas han pedido un prestamo de:\",list(dictMontoPres.keys())[i])"
      ],
      "execution_count": null,
      "outputs": [
        {
          "output_type": "stream",
          "text": [
            " 2729 Personas han pedido un prestamo de: 2500\n",
            " 118 Personas han pedido un prestamo de: 35000\n",
            " 117 Personas han pedido un prestamo de: 2600\n",
            " 115 Personas han pedido un prestamo de: 2900\n",
            " 113 Personas han pedido un prestamo de: 3100\n",
            " 110 Personas han pedido un prestamo de: 3000\n",
            " 108 Personas han pedido un prestamo de: 2700\n",
            " 107 Personas han pedido un prestamo de: 2800\n",
            " 105 Personas han pedido un prestamo de: 3800\n",
            " 103 Personas han pedido un prestamo de: 3300\n",
            " 102 Personas han pedido un prestamo de: 3200\n",
            " 93 Personas han pedido un prestamo de: 3500\n",
            " 93 Personas han pedido un prestamo de: 3400\n",
            " 89 Personas han pedido un prestamo de: 3600\n",
            " 85 Personas han pedido un prestamo de: 4000\n",
            " 82 Personas han pedido un prestamo de: 3700\n",
            " 80 Personas han pedido un prestamo de: 3900\n",
            " 80 Personas han pedido un prestamo de: 4200\n",
            " 69 Personas han pedido un prestamo de: 4100\n",
            " 68 Personas han pedido un prestamo de: 4700\n",
            " 64 Personas han pedido un prestamo de: 4600\n",
            " 63 Personas han pedido un prestamo de: 5000\n",
            " 61 Personas han pedido un prestamo de: 5400\n",
            " 61 Personas han pedido un prestamo de: 5300\n",
            " 60 Personas han pedido un prestamo de: 4400\n",
            " 60 Personas han pedido un prestamo de: 4900\n",
            " 57 Personas han pedido un prestamo de: 6100\n",
            " 56 Personas han pedido un prestamo de: 4800\n",
            " 56 Personas han pedido un prestamo de: 5800\n",
            " 56 Personas han pedido un prestamo de: 4300\n",
            " 54 Personas han pedido un prestamo de: 5200\n",
            " 53 Personas han pedido un prestamo de: 4500\n",
            " 53 Personas han pedido un prestamo de: 5100\n",
            " 51 Personas han pedido un prestamo de: 5900\n",
            " 49 Personas han pedido un prestamo de: 7000\n",
            " 49 Personas han pedido un prestamo de: 6500\n",
            " 48 Personas han pedido un prestamo de: 6400\n",
            " 46 Personas han pedido un prestamo de: 5600\n",
            " 46 Personas han pedido un prestamo de: 6600\n",
            " 46 Personas han pedido un prestamo de: 5700\n",
            " 45 Personas han pedido un prestamo de: 6700\n",
            " 45 Personas han pedido un prestamo de: 6000\n",
            " 44 Personas han pedido un prestamo de: 6300\n",
            " 44 Personas han pedido un prestamo de: 5500\n",
            " 42 Personas han pedido un prestamo de: 7800\n",
            " 42 Personas han pedido un prestamo de: 6900\n",
            " 37 Personas han pedido un prestamo de: 6200\n",
            " 37 Personas han pedido un prestamo de: 6800\n",
            " 36 Personas han pedido un prestamo de: 8900\n",
            " 35 Personas han pedido un prestamo de: 7200\n",
            " 33 Personas han pedido un prestamo de: 7300\n",
            " 33 Personas han pedido un prestamo de: 7600\n",
            " 33 Personas han pedido un prestamo de: 7400\n",
            " 33 Personas han pedido un prestamo de: 7500\n",
            " 33 Personas han pedido un prestamo de: 7700\n",
            " 33 Personas han pedido un prestamo de: 8100\n",
            " 33 Personas han pedido un prestamo de: 8600\n",
            " 32 Personas han pedido un prestamo de: 8400\n",
            " 30 Personas han pedido un prestamo de: 10000\n",
            " 30 Personas han pedido un prestamo de: 7100\n",
            " 30 Personas han pedido un prestamo de: 8300\n",
            " 29 Personas han pedido un prestamo de: 9200\n",
            " 29 Personas han pedido un prestamo de: 8500\n",
            " 28 Personas han pedido un prestamo de: 9100\n",
            " 27 Personas han pedido un prestamo de: 9800\n",
            " 25 Personas han pedido un prestamo de: 9700\n",
            " 25 Personas han pedido un prestamo de: 7900\n",
            " 24 Personas han pedido un prestamo de: 8800\n",
            " 23 Personas han pedido un prestamo de: 9500\n",
            " 23 Personas han pedido un prestamo de: 10300\n",
            " 23 Personas han pedido un prestamo de: 8200\n",
            " 22 Personas han pedido un prestamo de: 8000\n",
            " 22 Personas han pedido un prestamo de: 10200\n",
            " 21 Personas han pedido un prestamo de: 10800\n",
            " 21 Personas han pedido un prestamo de: 11500\n",
            " 19 Personas han pedido un prestamo de: 9400\n",
            " 19 Personas han pedido un prestamo de: 11400\n",
            " 19 Personas han pedido un prestamo de: 10900\n",
            " 19 Personas han pedido un prestamo de: 9600\n",
            " 19 Personas han pedido un prestamo de: 11600\n",
            " 18 Personas han pedido un prestamo de: 8700\n",
            " 18 Personas han pedido un prestamo de: 11100\n",
            " 17 Personas han pedido un prestamo de: 9900\n",
            " 17 Personas han pedido un prestamo de: 10400\n",
            " 16 Personas han pedido un prestamo de: 12300\n",
            " 16 Personas han pedido un prestamo de: 10600\n",
            " 16 Personas han pedido un prestamo de: 10500\n",
            " 16 Personas han pedido un prestamo de: 9300\n",
            " 15 Personas han pedido un prestamo de: 11200\n",
            " 15 Personas han pedido un prestamo de: 9000\n",
            " 14 Personas han pedido un prestamo de: 11300\n",
            " 14 Personas han pedido un prestamo de: 15100\n",
            " 14 Personas han pedido un prestamo de: 14900\n",
            " 14 Personas han pedido un prestamo de: 12200\n",
            " 14 Personas han pedido un prestamo de: 10100\n",
            " 13 Personas han pedido un prestamo de: 13400\n",
            " 13 Personas han pedido un prestamo de: 14300\n",
            " 13 Personas han pedido un prestamo de: 14100\n",
            " 13 Personas han pedido un prestamo de: 13700\n",
            " 13 Personas han pedido un prestamo de: 12900\n",
            " 12 Personas han pedido un prestamo de: 14400\n",
            " 12 Personas han pedido un prestamo de: 18000\n",
            " 12 Personas han pedido un prestamo de: 10700\n",
            " 12 Personas han pedido un prestamo de: 12500\n",
            " 12 Personas han pedido un prestamo de: 11000\n",
            " 12 Personas han pedido un prestamo de: 12800\n",
            " 11 Personas han pedido un prestamo de: 13000\n",
            " 11 Personas han pedido un prestamo de: 12100\n",
            " 11 Personas han pedido un prestamo de: 11800\n",
            " 11 Personas han pedido un prestamo de: 11900\n",
            " 10 Personas han pedido un prestamo de: 18200\n",
            " 10 Personas han pedido un prestamo de: 17000\n",
            " 10 Personas han pedido un prestamo de: 15700\n",
            " 10 Personas han pedido un prestamo de: 17600\n",
            " 10 Personas han pedido un prestamo de: 12600\n",
            " 10 Personas han pedido un prestamo de: 11700\n",
            " 10 Personas han pedido un prestamo de: 16300\n",
            " 10 Personas han pedido un prestamo de: 14200\n",
            " 10 Personas han pedido un prestamo de: 13500\n",
            " 10 Personas han pedido un prestamo de: 13600\n",
            " 9 Personas han pedido un prestamo de: 14500\n",
            " 9 Personas han pedido un prestamo de: 12400\n",
            " 9 Personas han pedido un prestamo de: 15300\n",
            " 9 Personas han pedido un prestamo de: 15500\n",
            " 9 Personas han pedido un prestamo de: 14000\n",
            " 9 Personas han pedido un prestamo de: 16000\n",
            " 9 Personas han pedido un prestamo de: 14800\n",
            " 8 Personas han pedido un prestamo de: 17100\n",
            " 8 Personas han pedido un prestamo de: 16500\n",
            " 8 Personas han pedido un prestamo de: 13200\n",
            " 8 Personas han pedido un prestamo de: 18800\n",
            " 8 Personas han pedido un prestamo de: 13900\n",
            " 8 Personas han pedido un prestamo de: 12700\n",
            " 7 Personas han pedido un prestamo de: 16200\n",
            " 7 Personas han pedido un prestamo de: 16100\n",
            " 7 Personas han pedido un prestamo de: 15900\n",
            " 7 Personas han pedido un prestamo de: 15800\n",
            " 7 Personas han pedido un prestamo de: 15000\n",
            " 7 Personas han pedido un prestamo de: 14700\n",
            " 7 Personas han pedido un prestamo de: 18500\n",
            " 7 Personas han pedido un prestamo de: 18600\n",
            " 7 Personas han pedido un prestamo de: 17700\n",
            " 7 Personas han pedido un prestamo de: 21200\n",
            " 7 Personas han pedido un prestamo de: 19200\n",
            " 7 Personas han pedido un prestamo de: 20100\n",
            " 7 Personas han pedido un prestamo de: 20800\n",
            " 7 Personas han pedido un prestamo de: 32700\n",
            " 6 Personas han pedido un prestamo de: 19100\n",
            " 6 Personas han pedido un prestamo de: 18400\n",
            " 6 Personas han pedido un prestamo de: 14600\n",
            " 6 Personas han pedido un prestamo de: 15600\n",
            " 6 Personas han pedido un prestamo de: 13100\n",
            " 6 Personas han pedido un prestamo de: 17500\n",
            " 6 Personas han pedido un prestamo de: 12000\n",
            " 6 Personas han pedido un prestamo de: 24200\n",
            " 6 Personas han pedido un prestamo de: 19500\n",
            " 6 Personas han pedido un prestamo de: 26200\n",
            " 6 Personas han pedido un prestamo de: 20400\n",
            " 6 Personas han pedido un prestamo de: 13800\n",
            " 6 Personas han pedido un prestamo de: 16900\n",
            " 5 Personas han pedido un prestamo de: 16800\n",
            " 5 Personas han pedido un prestamo de: 19000\n",
            " 5 Personas han pedido un prestamo de: 16700\n",
            " 5 Personas han pedido un prestamo de: 24100\n",
            " 5 Personas han pedido un prestamo de: 15200\n",
            " 5 Personas han pedido un prestamo de: 17200\n",
            " 5 Personas han pedido un prestamo de: 17300\n",
            " 5 Personas han pedido un prestamo de: 17900\n",
            " 5 Personas han pedido un prestamo de: 18100\n",
            " 5 Personas han pedido un prestamo de: 19300\n",
            " 5 Personas han pedido un prestamo de: 15400\n",
            " 5 Personas han pedido un prestamo de: 20600\n",
            " 4 Personas han pedido un prestamo de: 21700\n",
            " 4 Personas han pedido un prestamo de: 13300\n",
            " 4 Personas han pedido un prestamo de: 22800\n",
            " 4 Personas han pedido un prestamo de: 23200\n",
            " 4 Personas han pedido un prestamo de: 23700\n",
            " 4 Personas han pedido un prestamo de: 31600\n",
            " 4 Personas han pedido un prestamo de: 23800\n",
            " 4 Personas han pedido un prestamo de: 20300\n",
            " 4 Personas han pedido un prestamo de: 19700\n",
            " 4 Personas han pedido un prestamo de: 17400\n",
            " 4 Personas han pedido un prestamo de: 19600\n",
            " 4 Personas han pedido un prestamo de: 19900\n",
            " 4 Personas han pedido un prestamo de: 16400\n",
            " 4 Personas han pedido un prestamo de: 19400\n",
            " 4 Personas han pedido un prestamo de: 20000\n",
            " 4 Personas han pedido un prestamo de: 21000\n",
            " 4 Personas han pedido un prestamo de: 19800\n",
            " 4 Personas han pedido un prestamo de: 20500\n",
            " 3 Personas han pedido un prestamo de: 25000\n",
            " 3 Personas han pedido un prestamo de: 18300\n",
            " 3 Personas han pedido un prestamo de: 31500\n",
            " 3 Personas han pedido un prestamo de: 24700\n",
            " 3 Personas han pedido un prestamo de: 25100\n",
            " 3 Personas han pedido un prestamo de: 25200\n",
            " 3 Personas han pedido un prestamo de: 25500\n",
            " 3 Personas han pedido un prestamo de: 25900\n",
            " 3 Personas han pedido un prestamo de: 30100\n",
            " 3 Personas han pedido un prestamo de: 26400\n",
            " 3 Personas han pedido un prestamo de: 26600\n",
            " 3 Personas han pedido un prestamo de: 27000\n",
            " 3 Personas han pedido un prestamo de: 29600\n",
            " 3 Personas han pedido un prestamo de: 29000\n",
            " 3 Personas han pedido un prestamo de: 23900\n",
            " 3 Personas han pedido un prestamo de: 21100\n",
            " 3 Personas han pedido un prestamo de: 23600\n",
            " 3 Personas han pedido un prestamo de: 22600\n",
            " 3 Personas han pedido un prestamo de: 21300\n",
            " 3 Personas han pedido un prestamo de: 21400\n",
            " 3 Personas han pedido un prestamo de: 21500\n",
            " 3 Personas han pedido un prestamo de: 20900\n",
            " 3 Personas han pedido un prestamo de: 21600\n",
            " 3 Personas han pedido un prestamo de: 20700\n",
            " 3 Personas han pedido un prestamo de: 21900\n",
            " 3 Personas han pedido un prestamo de: 22000\n",
            " 3 Personas han pedido un prestamo de: 22300\n",
            " 3 Personas han pedido un prestamo de: 18700\n",
            " 3 Personas han pedido un prestamo de: 23100\n",
            " 3 Personas han pedido un prestamo de: 23400\n",
            " 3 Personas han pedido un prestamo de: 23300\n",
            " 3 Personas han pedido un prestamo de: 28500\n",
            " 2 Personas han pedido un prestamo de: 32800\n",
            " 2 Personas han pedido un prestamo de: 31300\n",
            " 2 Personas han pedido un prestamo de: 34500\n",
            " 2 Personas han pedido un prestamo de: 30400\n",
            " 2 Personas han pedido un prestamo de: 30600\n",
            " 2 Personas han pedido un prestamo de: 28600\n",
            " 2 Personas han pedido un prestamo de: 29900\n",
            " 2 Personas han pedido un prestamo de: 33800\n",
            " 2 Personas han pedido un prestamo de: 31700\n",
            " 2 Personas han pedido un prestamo de: 29400\n",
            " 2 Personas han pedido un prestamo de: 31900\n",
            " 2 Personas han pedido un prestamo de: 28900\n",
            " 2 Personas han pedido un prestamo de: 33400\n",
            " 2 Personas han pedido un prestamo de: 24900\n",
            " 2 Personas han pedido un prestamo de: 27900\n",
            " 2 Personas han pedido un prestamo de: 34600\n",
            " 2 Personas han pedido un prestamo de: 21800\n",
            " 2 Personas han pedido un prestamo de: 22400\n",
            " 2 Personas han pedido un prestamo de: 22700\n",
            " 2 Personas han pedido un prestamo de: 23000\n",
            " 2 Personas han pedido un prestamo de: 16600\n",
            " 2 Personas han pedido un prestamo de: 23500\n",
            " 2 Personas han pedido un prestamo de: 24000\n",
            " 2 Personas han pedido un prestamo de: 24300\n",
            " 2 Personas han pedido un prestamo de: 27800\n",
            " 2 Personas han pedido un prestamo de: 24400\n",
            " 2 Personas han pedido un prestamo de: 24800\n",
            " 2 Personas han pedido un prestamo de: 25400\n",
            " 2 Personas han pedido un prestamo de: 26300\n",
            " 2 Personas han pedido un prestamo de: 26900\n",
            " 2 Personas han pedido un prestamo de: 27500\n",
            " 2 Personas han pedido un prestamo de: 27700\n",
            " 2 Personas han pedido un prestamo de: 18900\n",
            " 1 Personas han pedido un prestamo de: 34800\n",
            " 1 Personas han pedido un prestamo de: 34900\n",
            " 1 Personas han pedido un prestamo de: 32500\n",
            " 1 Personas han pedido un prestamo de: 30300\n",
            " 1 Personas han pedido un prestamo de: 30700\n",
            " 1 Personas han pedido un prestamo de: 30800\n",
            " 1 Personas han pedido un prestamo de: 31200\n",
            " 1 Personas han pedido un prestamo de: 31400\n",
            " 1 Personas han pedido un prestamo de: 31800\n",
            " 1 Personas han pedido un prestamo de: 32100\n",
            " 1 Personas han pedido un prestamo de: 32200\n",
            " 1 Personas han pedido un prestamo de: 32300\n",
            " 1 Personas han pedido un prestamo de: 32400\n",
            " 1 Personas han pedido un prestamo de: 32600\n",
            " 1 Personas han pedido un prestamo de: 29800\n",
            " 1 Personas han pedido un prestamo de: 32900\n",
            " 1 Personas han pedido un prestamo de: 33000\n",
            " 1 Personas han pedido un prestamo de: 33100\n",
            " 1 Personas han pedido un prestamo de: 33200\n",
            " 1 Personas han pedido un prestamo de: 33300\n",
            " 1 Personas han pedido un prestamo de: 33600\n",
            " 1 Personas han pedido un prestamo de: 33700\n",
            " 1 Personas han pedido un prestamo de: 34200\n",
            " 1 Personas han pedido un prestamo de: 34300\n",
            " 1 Personas han pedido un prestamo de: 34400\n",
            " 1 Personas han pedido un prestamo de: 30000\n",
            " 1 Personas han pedido un prestamo de: 29700\n",
            " 1 Personas han pedido un prestamo de: 20200\n",
            " 1 Personas han pedido un prestamo de: 26100\n",
            " 1 Personas han pedido un prestamo de: 22100\n",
            " 1 Personas han pedido un prestamo de: 22200\n",
            " 1 Personas han pedido un prestamo de: 22500\n",
            " 1 Personas han pedido un prestamo de: 22900\n",
            " 1 Personas han pedido un prestamo de: 24500\n",
            " 1 Personas han pedido un prestamo de: 24600\n",
            " 1 Personas han pedido un prestamo de: 25300\n",
            " 1 Personas han pedido un prestamo de: 25600\n",
            " 1 Personas han pedido un prestamo de: 25800\n",
            " 1 Personas han pedido un prestamo de: 26000\n",
            " 1 Personas han pedido un prestamo de: 26500\n",
            " 1 Personas han pedido un prestamo de: 29500\n",
            " 1 Personas han pedido un prestamo de: 26800\n",
            " 1 Personas han pedido un prestamo de: 27100\n",
            " 1 Personas han pedido un prestamo de: 27200\n",
            " 1 Personas han pedido un prestamo de: 27300\n",
            " 1 Personas han pedido un prestamo de: 27400\n",
            " 1 Personas han pedido un prestamo de: 28200\n",
            " 1 Personas han pedido un prestamo de: 28300\n",
            " 1 Personas han pedido un prestamo de: 29100\n",
            " 1 Personas han pedido un prestamo de: 29200\n",
            " 1 Personas han pedido un prestamo de: 29300\n",
            " 1 Personas han pedido un prestamo de: 17800\n"
          ],
          "name": "stdout"
        }
      ]
    },
    {
      "cell_type": "markdown",
      "metadata": {
        "id": "NpN0jZAqaqjv"
      },
      "source": [
        "##Graficar lo anterior (Grafico de pila sin estar apilado)"
      ]
    },
    {
      "cell_type": "code",
      "metadata": {
        "colab": {
          "base_uri": "https://localhost:8080/",
          "height": 472
        },
        "id": "Rk3N7BPDZcnh",
        "outputId": "2f2b30f6-5b36-494d-a34f-8d3eedc56c4a"
      },
      "source": [
        "fig, ax = plt.subplots()\n",
        "ax.stackplot(list(dictMontoPres.values()), list(dictMontoPres.keys()))\n",
        "ax.set_title('Monto del prestamo')\n",
        "ax.set_xlabel('Cantidad de personas')\n",
        "ax.set_ylabel('Cantidad de dinero')\n",
        "\n",
        "plt.show()"
      ],
      "execution_count": null,
      "outputs": [
        {
          "output_type": "display_data",
          "data": {
            "image/png": "[encoded data removed]",
            "text/plain": [
              "<Figure size 640x480 with 1 Axes>"
            ]
          },
          "metadata": {
            "tags": []
          }
        }
      ]
    },
    {
      "cell_type": "markdown",
      "metadata": {
        "id": "Rl2cD9SR5zgZ"
      },
      "source": [
        "#RANGO DEL CREDITO"
      ]
    },
    {
      "cell_type": "markdown",
      "metadata": {
        "id": "6DBjXG4y54cv"
      },
      "source": [
        "##Ver, filtrar y contar los rangos existentes"
      ]
    },
    {
      "cell_type": "code",
      "metadata": {
        "colab": {
          "base_uri": "https://localhost:8080/"
        },
        "id": "izA9XNXC57la",
        "outputId": "9d997812-4d7a-4e67-e795-9c263ae65d44"
      },
      "source": [
        "import matplotlib.pyplot as plt\n",
        "import pandas as pd\n",
        "\n",
        "df = pd.read_csv(\"https://raw.githubusercontent.com/luisFernandoCastellanosG/Machine_learning/master/DataScience/DataSet's/prestamos_records.csv\")\n",
        "\n",
        "dictRanCred = dict(df.value_counts(\"RANGO_DEL_CREDITO\"))\n",
        "\n",
        "for i in range(len(dictRanCred)):\n",
        "  print(f\"En el rango de credito\",list(dictRanCred.keys())[i],\"hay\",list(dictRanCred.values())[i],\"prestamos\")\n",
        "\n",
        "for j in range(len(df.RANGO_DEL_CREDITO)):\n",
        "  if type(list(dictRanCred.keys())[i]) is float:\n",
        "    list(dictRanCred.keys())[i] = \"0\" #Cambia todos los Null a String\n",
        "\n",
        "print(f\"Cantidad de prestamos activos:\",sum(dictRanCred.values())) #Los prestamos activos en total\n",
        "print(f\"Datos Nulos:\",len(df.RANGO_DEL_CREDITO) - sum(dictRanCred.values())) #Cuenta la cantidad de datos Nulos"
      ],
      "execution_count": null,
      "outputs": [
        {
          "output_type": "stream",
          "text": [
            "En el rango de credito 700-719 hay 2081 prestamos\n",
            "En el rango de credito 740-759 hay 1708 prestamos\n",
            "En el rango de credito 780-799 hay 1393 prestamos\n",
            "En el rango de credito 760-779 hay 1233 prestamos\n",
            "En el rango de credito 720-739 hay 1015 prestamos\n",
            "En el rango de credito 800+ hay 570 prestamos\n",
            "Cantidad de prestamos activos: 8000\n",
            "Datos Nulos: 0\n"
          ],
          "name": "stdout"
        }
      ]
    },
    {
      "cell_type": "markdown",
      "metadata": {
        "id": "gMGiP97w7cpL"
      },
      "source": [
        "##Graficar lo anterior(Grafico de barras lateral)"
      ]
    },
    {
      "cell_type": "code",
      "metadata": {
        "colab": {
          "base_uri": "https://localhost:8080/",
          "height": 472
        },
        "id": "AIHJ35Pd7dkH",
        "outputId": "d645e4f9-a933-4ea2-bd94-9fc4fd8fa3de"
      },
      "source": [
        "plt.rcdefaults()\n",
        "fig, ax = plt.subplots()\n",
        "\n",
        "rangos = (list(dictRanCred.keys()))\n",
        "rangosTam = np.arange(len(rangos))\n",
        "cantidad = (list(dictRanCred.values())) \n",
        "\n",
        "ax.barh(rangosTam, cantidad, align='center')\n",
        "ax.set_yticks(rangosTam)\n",
        "ax.set_yticklabels(rangos)\n",
        "ax.set_xlabel('Cantidad')\n",
        "ax.set_ylabel('Rangos')\n",
        "ax.set_title('Rango Del Credito')\n",
        "\n",
        "plt.show()"
      ],
      "execution_count": null,
      "outputs": [
        {
          "output_type": "display_data",
          "data": {
            "image/png": "[encoded data removed]",
            "text/plain": [
              "<Figure size 640x480 with 1 Axes>"
            ]
          },
          "metadata": {
            "tags": []
          }
        }
      ]
    },
    {
      "cell_type": "markdown",
      "metadata": {
        "id": "wp8agvoNdAyI"
      },
      "source": [
        "#DEUDA EXISTENTE(CODIGO Y GRAFICO)"
      ]
    },
    {
      "cell_type": "markdown",
      "metadata": {
        "id": "XcCui5xRdIho"
      },
      "source": [
        "##Ver, filtrar y contar los rangos existentes"
      ]
    },
    {
      "cell_type": "code",
      "metadata": {
        "colab": {
          "base_uri": "https://localhost:8080/"
        },
        "id": "ndpDcx42c9Io",
        "outputId": "6784037f-93fb-4c88-a52e-dcc05a403d37"
      },
      "source": [
        "import matplotlib.pyplot as plt\n",
        "import pandas as pd\n",
        "\n",
        "df = pd.read_csv(\"https://raw.githubusercontent.com/luisFernandoCastellanosG/Machine_learning/master/DataScience/DataSet's/prestamos_records.csv\")\n",
        "\n",
        "dictDeudaEx = dict(df.value_counts(\"DEUDA_EXISTENTE\"))\n",
        "\n",
        "for i in range(len(dictDeudaEx)):\n",
        "  print(f\"En el rango\",list(dictDeudaEx.keys())[i],\"Hay un total de\",list(dictDeudaEx.values())[i],\"prestamos con deudas.\")\n",
        "\n",
        "for j in range(len(df.DEUDA_EXISTENTE)):\n",
        "  if type(list(dictDeudaEx.keys())[i]) is float:\n",
        "    list(dictDeudaEx.keys())[i] = \"0\" #Cambia todos los Null a String\n",
        "\n",
        "print(f\"Cantidad de prestamos con deudas activos:\",sum(dictDeudaEx.values())) #Los prestamos activos en total\n",
        "print(f\"Datos Nulos:\",len(df.DEUDA_EXISTENTE) - sum(dictDeudaEx.values())) #Cuenta la cantidad de datos Nulos"
      ],
      "execution_count": null,
      "outputs": [
        {
          "output_type": "stream",
          "text": [
            "En el rango $1-$10,000 Hay un total de 1184 prestamos con deudas.\n",
            "En el rango $10,001-$20,000 Hay un total de 1162 prestamos con deudas.\n",
            "En el rango $20,001-$30,000 Hay un total de 907 prestamos con deudas.\n",
            "En el rango $100,000+ Hay un total de 740 prestamos con deudas.\n",
            "En el rango $30,001-$40,000 Hay un total de 553 prestamos con deudas.\n",
            "En el rango $40,001-$50,000 Hay un total de 399 prestamos con deudas.\n",
            "En el rango $50,001-$60,000 Hay un total de 287 prestamos con deudas.\n",
            "En el rango $60,001-$70,000 Hay un total de 267 prestamos con deudas.\n",
            "En el rango $70,001-$80,000 Hay un total de 197 prestamos con deudas.\n",
            "En el rango $80,001-$90,000 Hay un total de 143 prestamos con deudas.\n",
            "En el rango $90,001-$100,000 Hay un total de 124 prestamos con deudas.\n",
            "Cantidad de prestamos con deudas activos: 5963\n",
            "Datos Nulos: 2037\n"
          ],
          "name": "stdout"
        }
      ]
    },
    {
      "cell_type": "markdown",
      "metadata": {
        "id": "rNKKregfzkPb"
      },
      "source": [
        "##Graficar lo anterior(Grafico de barras lateral)"
      ]
    },
    {
      "cell_type": "code",
      "metadata": {
        "colab": {
          "base_uri": "https://localhost:8080/",
          "height": 472
        },
        "id": "z2348x2xzx8g",
        "outputId": "d5f27184-154f-4e5c-b477-be3e80385845"
      },
      "source": [
        "plt.rcdefaults()\n",
        "fig, ax = plt.subplots()\n",
        "\n",
        "rangos = (list(dictDeudaEx.keys()))\n",
        "rangosTam = np.arange(len(rangos))\n",
        "cantidad = (list(dictDeudaEx.values())) \n",
        "\n",
        "ax.barh(rangosTam, cantidad, align='center')\n",
        "ax.set_yticks(rangosTam)\n",
        "ax.set_yticklabels(rangos)\n",
        "ax.set_xlabel('Cantidad')\n",
        "ax.set_ylabel('Rangos')\n",
        "ax.set_title('Prestamos Activos')\n",
        "\n",
        "plt.show()"
      ],
      "execution_count": null,
      "outputs": [
        {
          "output_type": "display_data",
          "data": {
            "image/png": "[encoded data removed]",
            "text/plain": [
              "<Figure size 640x480 with 1 Axes>"
            ]
          },
          "metadata": {
            "tags": []
          }
        }
      ]
    },
    {
      "cell_type": "markdown",
      "metadata": {
        "id": "DgtHCrlWzste"
      },
      "source": [
        "#Notas del agente(Codigo y Grafico)"
      ]
    },
    {
      "cell_type": "markdown",
      "metadata": {
        "id": "-DKDzk2ez2pU"
      },
      "source": [
        "##Filtrar valores NULL, rellenarlos y comparar los valores nulos con los llenos"
      ]
    },
    {
      "cell_type": "code",
      "metadata": {
        "colab": {
          "base_uri": "https://localhost:8080/"
        },
        "id": "hGVm7XiV0T9Y",
        "outputId": "7d0fdc7b-0e72-465b-aa72-c0ec4e756baf"
      },
      "source": [
        "import matplotlib.pyplot as plt\n",
        "import pandas as pd\n",
        "\n",
        "df = pd.read_csv(\"https://raw.githubusercontent.com/luisFernandoCastellanosG/Machine_learning/master/DataScience/DataSet's/prestamos_records.csv\")\n",
        "\n",
        "listNotasAg = list(df.NOTAS_DEL_AGENTE)#Lo convierto en lista para manejarlo mas facil\n",
        "countNormal, countNull = 0, 0\n",
        "\n",
        "for i in range(len(listNotasAg)):\n",
        "  if type(listNotasAg[i]) is str:#Filtra los que tienen valores String\n",
        "    countNormal += 1\n",
        "  else: #Por alguna razon que desconzco el Null/None es Float xD y solo por eso se puede filtrar\n",
        "    countNull += 1\n",
        "    listNotasAg[i] = \"No existe informacion dada por el agente.\"#Cambia los Null por un String\n",
        "\n",
        "totalDatos=countNormal+countNull\n",
        "print(f\"La cantidad de datos no nulos es:\",countNormal,\"\\nY La cantidad de datos nulos es:\",countNull)#Esto es lo de comprar valores nulos con los llenos\n",
        "print(f\"La suma de todos los datos es:\",totalDatos)\n",
        "print(f\"Cantidad de datos Null rellenados:\",listNotasAg.count(\"No existe informacion dada por el agente.\"))#Cuenta cuantos datos se cambiaron de Null a String"
      ],
      "execution_count": null,
      "outputs": [
        {
          "output_type": "stream",
          "text": [
            "La cantidad de datos no nulos es: 5064 \n",
            "Y La cantidad de datos nulos es: 2936\n",
            "La suma de todos los datos es: 8000\n",
            "Cantidad de datos Null rellenados: 2936\n"
          ],
          "name": "stdout"
        }
      ]
    },
    {
      "cell_type": "markdown",
      "metadata": {
        "id": "HtBH9Uc1V1Ap"
      },
      "source": [
        "##Graficar cantidad de datos Null a comparacion con los String (Grafico de barras)"
      ]
    },
    {
      "cell_type": "code",
      "metadata": {
        "colab": {
          "base_uri": "https://localhost:8080/",
          "height": 478
        },
        "id": "zhOiK8ZiWBfR",
        "outputId": "06507136-e56b-40a9-ac4f-c094b07c7c49"
      },
      "source": [
        "names = [\"Datos String\", \"Datos Null\"]\n",
        "values = [countNormal, countNull] #Se ingresa los valores de cada variable\n",
        "\n",
        "#plt.figure(figsize=(3, 3)) #Tamaño de la imagen para imprimir\n",
        "\n",
        "plt.bar(names, values)\n",
        "plt.suptitle(\"Cantidad de datos Null a comparacion con los String\")\n",
        "plt.show()"
      ],
      "execution_count": null,
      "outputs": [
        {
          "output_type": "display_data",
          "data": {
            "image/png": "[encoded data removed]",
            "text/plain": [
              "<Figure size 640x480 with 1 Axes>"
            ]
          },
          "metadata": {
            "tags": []
          }
        }
      ]
    },
    {
      "cell_type": "markdown",
      "metadata": {
        "id": "Ita7DNBHLDqb"
      },
      "source": [
        "#Ubicacion de la oficina (Codigo y Grafico)"
      ]
    },
    {
      "cell_type": "markdown",
      "metadata": {
        "id": "IzQI1QsBLYYY"
      },
      "source": [
        "##Filtrar, hacer porcentajes y decir donde hay mas prestamos"
      ]
    },
    {
      "cell_type": "code",
      "metadata": {
        "colab": {
          "base_uri": "https://localhost:8080/"
        },
        "id": "TsjijfiTL-_C",
        "outputId": "97f90a8f-c9cd-4d27-c8e5-31f0a7708b97"
      },
      "source": [
        "import matplotlib.pyplot as plt\n",
        "import pandas as pd\n",
        "\n",
        "df = pd.read_csv(\"https://raw.githubusercontent.com/luisFernandoCastellanosG/Machine_learning/master/DataScience/DataSet's/prestamos_records.csv\")\n",
        "\n",
        "nomU = list(set(list(df.UBICACION_DE_LA_OFICINA))) #Saque los datos y lo reduje para que no se repitieran\n",
        "\n",
        "for i in range(len(nomU)): #Ya no seran 8000 datos para mirar si no solo 6    \n",
        "  countNomU = df[df['UBICACION_DE_LA_OFICINA'] == nomU[i]]\n",
        "  print(f\"La oficina de\",nomU[i],\"tiene\",len(countNomU.axes[0]),\n",
        "          \"prestamos realizados, que equivale al\",(len(countNomU.axes[0]) / len(df.UBICACION_DE_LA_OFICINA))*100,\"% a nivel nacional.\") #Se hacen las operaciones y se escribe en orden\n",
        "\n",
        "dictNomU = dict(df.value_counts(\"UBICACION_DE_LA_OFICINA\"))#Convertimos en diccionario\n",
        "maxDictNomU = max(dictNomU,key=lambda key: dictNomU[key])#Dentro del diccionario buscamos el valor mas alto\n",
        "\n",
        "print(f\"\\n La mayor cantidad de prestamos es\",max(df.value_counts(\"UBICACION_DE_LA_OFICINA\")),\"de\",maxDictNomU)#Se agregan los resultados\n",
        "print(f\"\\n\",df.value_counts(\"UBICACION_DE_LA_OFICINA\"),f\"\\n\") #Aca comprobamos que de verdad se pusieron los datos correctos"
      ],
      "execution_count": null,
      "outputs": [
        {
          "output_type": "stream",
          "text": [
            "La oficina de NORTHERN CALIFORNIA tiene 1715 prestamos realizados, que equivale al 21.4375 % a nivel nacional.\n",
            "La oficina de ARIZONA tiene 1621 prestamos realizados, que equivale al 20.2625 % a nivel nacional.\n",
            "La oficina de WASHINGTON STATE tiene 774 prestamos realizados, que equivale al 9.675 % a nivel nacional.\n",
            "La oficina de OREGON tiene 755 prestamos realizados, que equivale al 9.4375 % a nivel nacional.\n",
            "La oficina de NEVADA tiene 1039 prestamos realizados, que equivale al 12.987499999999999 % a nivel nacional.\n",
            "La oficina de SOUTHERN CALIFORNIA tiene 2096 prestamos realizados, que equivale al 26.200000000000003 % a nivel nacional.\n",
            "\n",
            " La mayor cantidad de prestamos es 2096 de SOUTHERN CALIFORNIA\n",
            "\n",
            " UBICACION_DE_LA_OFICINA\n",
            "SOUTHERN CALIFORNIA    2096\n",
            "NORTHERN CALIFORNIA    1715\n",
            "ARIZONA                1621\n",
            "NEVADA                 1039\n",
            "WASHINGTON STATE        774\n",
            "OREGON                  755\n",
            "dtype: int64 \n",
            "\n"
          ],
          "name": "stdout"
        }
      ]
    },
    {
      "cell_type": "markdown",
      "metadata": {
        "id": "DR-bMU_Yuuhj"
      },
      "source": [
        "##Graficar el proceso anterior (Grafico Circular)"
      ]
    },
    {
      "cell_type": "code",
      "metadata": {
        "colab": {
          "base_uri": "https://localhost:8080/",
          "height": 252
        },
        "id": "jtJocpcfum6h",
        "outputId": "1d45ce03-276d-4fb1-b9c6-e7d273fbb83b"
      },
      "source": [
        "labels = list(dictNomU.keys())#Los nombres\n",
        "sizes = list(dictNomU.values())#Los valores\n",
        "explode = (0.1, 0, 0, 0, 0, 0)#Para decidir cual valor va a destacar\n",
        "\n",
        "fig1, ax1 = plt.subplots() #Para generar el grafico\n",
        "ax1.pie(sizes, explode=explode, labels=labels, autopct='%1.1f%%',\n",
        "        shadow=True, startangle=45)\n",
        "ax1.axis('equal')\n",
        "\n",
        "plt.show()"
      ],
      "execution_count": null,
      "outputs": [
        {
          "output_type": "display_data",
          "data": {
            "image/png": "[encoded data removed]",
            "text/plain": [
              "<Figure size 432x288 with 1 Axes>"
            ]
          },
          "metadata": {
            "tags": []
          }
        }
      ]
    },
    {
      "cell_type": "markdown",
      "metadata": {
        "id": "ne6DNJl3LJBO"
      },
      "source": [
        "#Prestamo Incumplido (Codigo y Grafico)"
      ]
    },
    {
      "cell_type": "markdown",
      "metadata": {
        "id": "JGxFl4bFQkhq"
      },
      "source": [
        "##Filtrar y contar (Codigo)"
      ]
    },
    {
      "cell_type": "code",
      "metadata": {
        "colab": {
          "base_uri": "https://localhost:8080/"
        },
        "id": "A41t05duSZ6B",
        "outputId": "b7fab380-8435-4259-d3de-80e58f68acd2"
      },
      "source": [
        "import matplotlib.pyplot as plt\n",
        "import pandas as pd\n",
        "df = pd.read_csv(\"https://raw.githubusercontent.com/luisFernandoCastellanosG/Machine_learning/master/DataScience/DataSet's/prestamos_records.csv\")\n",
        "\n",
        "countF = df[df['PRESTAMO_INCUMPLIDO'] == \"FALSO\"] #Cuenta cuantos Falso hay en la tabla\n",
        "print(f\"Cantidad de gente que no cumple: \",len(countF.axes[0])) #Saca el numero exacto\n",
        "\n",
        "countV = df[df['PRESTAMO_INCUMPLIDO'] == \"VERDADERO\"] #Cuenta cuantos Verdadero hay en la tabla\n",
        "print(f\"Cantidad de gente que cumple: \",len(countV.axes[0])) #Saca el numero exacto\n",
        "\n",
        "print(f\"Total para comprobar que tomo todos los datos de la tabla: \",len(countV)+len(countF)) #Suma para comprobar que sume 8000"
      ],
      "execution_count": null,
      "outputs": [
        {
          "output_type": "stream",
          "text": [
            "Cantidad de gente que no cumple:  6725\n",
            "Cantidad de gente que cumple:  1275\n",
            "Total para comprobar que tomo todos los datos de la tabla:  8000\n"
          ],
          "name": "stdout"
        }
      ]
    },
    {
      "cell_type": "markdown",
      "metadata": {
        "id": "czgRIVhdJP4u"
      },
      "source": [
        "##Filtrar, contar y graficar (Grafico de barras)"
      ]
    },
    {
      "cell_type": "code",
      "metadata": {
        "colab": {
          "base_uri": "https://localhost:8080/",
          "height": 233
        },
        "id": "b4CWabgYQrU_",
        "outputId": "318a4d75-05ce-48f0-984b-db1082780131"
      },
      "source": [
        "names = [\"Verdadero\", \"Falso\"]\n",
        "values = [len(countV.axes[0]), len(countF.axes[0])] #Se ingresa los valores de cada variable\n",
        "\n",
        "plt.figure(figsize=(3, 3)) #Tamaño de la imagen para imprimir\n",
        "\n",
        "plt.bar(names, values)\n",
        "plt.suptitle(\"Prestamo Incumplido\")\n",
        "plt.show()"
      ],
      "execution_count": null,
      "outputs": [
        {
          "output_type": "display_data",
          "data": {
            "image/png": "[encoded data removed]",
            "text/plain": [
              "<Figure size 216x216 with 1 Axes>"
            ]
          },
          "metadata": {
            "tags": [],
            "needs_background": "light"
          }
        }
      ]
    }
  ]
}