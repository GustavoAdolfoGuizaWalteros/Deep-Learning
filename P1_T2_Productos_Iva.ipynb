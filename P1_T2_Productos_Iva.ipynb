{
  "nbformat": 4,
  "nbformat_minor": 0,
  "metadata": {
    "colab": {
      "name": "P1_T2_Productos_Iva",
      "provenance": [],
      "collapsed_sections": [],
      "include_colab_link": true
    },
    "kernelspec": {
      "display_name": "Python 3",
      "name": "python3"
    }
  },
  "cells": [
    {
      "cell_type": "markdown",
      "metadata": {
        "id": "view-in-github",
        "colab_type": "text"
      },
      "source": [
        "<a href=\"https://colab.research.google.com/github/GustavoAdolfoGuizaWalteros/Deep-Learning/blob/main/P1_T2_Productos_Iva.ipynb\" target=\"_parent\"><img src=\"https://colab.research.google.com/assets/colab-badge.svg\" alt=\"Open In Colab\"/></a>"
      ]
    },
    {
      "cell_type": "code",
      "metadata": {
        "id": "zODHw959VUyf",
        "colab": {
          "base_uri": "https://localhost:8080/"
        },
        "outputId": "88a84375-4e52-4c58-8e0f-34f48ce19b67"
      },
      "source": [
        "listproduct = []\n",
        "listproduct = input(\"Precio de los productos separado por comas: \").split(\",\")\n",
        "for i in range (len(listproduct)):\n",
        "  print(f\"Valor del producto \",i+1,\" : \",listproduct[i])\n",
        "  print(f\"Iva (%19) \",i+1,\" : \",int(listproduct[i])*0.19)\n",
        "  print(f\"Valor total \",i+1,\" : \",int(listproduct[i])*0.19+int(listproduct[i]),\"\\n\")"
      ],
      "execution_count": 1,
      "outputs": [
        {
          "output_type": "stream",
          "text": [
            "Precio de los productos separado por comas: 1,2,3,4,5,6\n",
            "Valor del producto  1  :  1\n",
            "Iva (%19)  1  :  0.19\n",
            "Valor total  1  :  1.19 \n",
            "\n",
            "Valor del producto  2  :  2\n",
            "Iva (%19)  2  :  0.38\n",
            "Valor total  2  :  2.38 \n",
            "\n",
            "Valor del producto  3  :  3\n",
            "Iva (%19)  3  :  0.5700000000000001\n",
            "Valor total  3  :  3.5700000000000003 \n",
            "\n",
            "Valor del producto  4  :  4\n",
            "Iva (%19)  4  :  0.76\n",
            "Valor total  4  :  4.76 \n",
            "\n",
            "Valor del producto  5  :  5\n",
            "Iva (%19)  5  :  0.95\n",
            "Valor total  5  :  5.95 \n",
            "\n",
            "Valor del producto  6  :  6\n",
            "Iva (%19)  6  :  1.1400000000000001\n",
            "Valor total  6  :  7.140000000000001 \n",
            "\n"
          ],
          "name": "stdout"
        }
      ]
    }
  ]
}